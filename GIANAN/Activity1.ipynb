{
 "cells": [
  {
   "cell_type": "markdown",
   "id": "578ce816-e88e-4fad-bfb3-a77dfe9ccbc3",
   "metadata": {
    "collapsed": false
   },
   "source": [
    "<h1> Palmer Penguin Data Analytics </h1>\n",
    "<hr> \n",
    "<h3>Analyst: Jeanne Nicole Gianan</h3>"
   ]
  },
  {
   "cell_type": "code",
   "execution_count": 3,
   "id": "760b656d-54e6-4026-81cb-826656418fba",
   "metadata": {
    "collapsed": false
   },
   "outputs": [
   ],
   "source": [
    "import numpy as np\n",
    "import pandas as pd\n",
    "import warnings\n",
    "warnings.filterwarnings('ignore')"
   ]
  },
  {
   "cell_type": "markdown",
   "id": "ea3635a6-a624-4a07-8c9c-6f469a48db96",
   "metadata": {
    "collapsed": false
   },
   "source": [
    "<p>Importing dataset to Jupyter notebook</p>\n",
    "<p>Converting dataset to dataframe</p>\n",
    "<ul>Requirements\n",
    "    <li>Name of the dataframe</li>\n",
    "    <li>Source</li>\n",
    "</ul>"
   ]
  },
  {
   "cell_type": "code",
   "execution_count": 2,
   "id": "98727a6e-16bf-47e9-a612-d616f3dfb7f3",
   "metadata": {
    "collapsed": false
   },
   "outputs": [
   ],
   "source": [
    "penguins = pd.read_csv('datasets/penguins.csv')"
   ]
  },
  {
   "cell_type": "code",
   "execution_count": 68,
   "id": "df46d0",
   "metadata": {
    "collapsed": false
   },
   "outputs": [
   ],
   "source": [
    "#Incase of error, dahil sa CoCalc ko po sya ginawa.\n",
    "#penguins = pd.read_csv('datasets\\\\penguins.csv')"
   ]
  },
  {
   "cell_type": "code",
   "execution_count": 3,
   "id": "a271f884-5d4e-4b56-9efe-b7fe118b0dfd",
   "metadata": {
    "collapsed": false
   },
   "outputs": [
    {
     "data": {
      "text/html": "<div>\n<style scoped>\n    .dataframe tbody tr th:only-of-type {\n        vertical-align: middle;\n    }\n\n    .dataframe tbody tr th {\n        vertical-align: top;\n    }\n\n    .dataframe thead th {\n        text-align: right;\n    }\n</style>\n<table border=\"1\" class=\"dataframe\">\n  <thead>\n    <tr style=\"text-align: right;\">\n      <th></th>\n      <th>species</th>\n      <th>island</th>\n      <th>bill_length_mm</th>\n      <th>bill_depth_mm</th>\n      <th>flipper_length_mm</th>\n      <th>body_mass_g</th>\n      <th>sex</th>\n      <th>year</th>\n    </tr>\n  </thead>\n  <tbody>\n    <tr>\n      <th>0</th>\n      <td>Adelie</td>\n      <td>Torgersen</td>\n      <td>39.1</td>\n      <td>18.7</td>\n      <td>181.0</td>\n      <td>3750.0</td>\n      <td>male</td>\n      <td>2007</td>\n    </tr>\n    <tr>\n      <th>1</th>\n      <td>Adelie</td>\n      <td>Torgersen</td>\n      <td>39.5</td>\n      <td>17.4</td>\n      <td>186.0</td>\n      <td>3800.0</td>\n      <td>female</td>\n      <td>2007</td>\n    </tr>\n    <tr>\n      <th>2</th>\n      <td>Adelie</td>\n      <td>Torgersen</td>\n      <td>40.3</td>\n      <td>18.0</td>\n      <td>195.0</td>\n      <td>3250.0</td>\n      <td>female</td>\n      <td>2007</td>\n    </tr>\n    <tr>\n      <th>3</th>\n      <td>Adelie</td>\n      <td>Torgersen</td>\n      <td>NaN</td>\n      <td>NaN</td>\n      <td>NaN</td>\n      <td>NaN</td>\n      <td>NaN</td>\n      <td>2007</td>\n    </tr>\n    <tr>\n      <th>4</th>\n      <td>Adelie</td>\n      <td>Torgersen</td>\n      <td>36.7</td>\n      <td>19.3</td>\n      <td>193.0</td>\n      <td>3450.0</td>\n      <td>female</td>\n      <td>2007</td>\n    </tr>\n    <tr>\n      <th>...</th>\n      <td>...</td>\n      <td>...</td>\n      <td>...</td>\n      <td>...</td>\n      <td>...</td>\n      <td>...</td>\n      <td>...</td>\n      <td>...</td>\n    </tr>\n    <tr>\n      <th>339</th>\n      <td>Chinstrap</td>\n      <td>Dream</td>\n      <td>55.8</td>\n      <td>19.8</td>\n      <td>207.0</td>\n      <td>4000.0</td>\n      <td>male</td>\n      <td>2009</td>\n    </tr>\n    <tr>\n      <th>340</th>\n      <td>Chinstrap</td>\n      <td>Dream</td>\n      <td>43.5</td>\n      <td>18.1</td>\n      <td>202.0</td>\n      <td>3400.0</td>\n      <td>female</td>\n      <td>2009</td>\n    </tr>\n    <tr>\n      <th>341</th>\n      <td>Chinstrap</td>\n      <td>Dream</td>\n      <td>49.6</td>\n      <td>18.2</td>\n      <td>193.0</td>\n      <td>3775.0</td>\n      <td>male</td>\n      <td>2009</td>\n    </tr>\n    <tr>\n      <th>342</th>\n      <td>Chinstrap</td>\n      <td>Dream</td>\n      <td>50.8</td>\n      <td>19.0</td>\n      <td>210.0</td>\n      <td>4100.0</td>\n      <td>male</td>\n      <td>2009</td>\n    </tr>\n    <tr>\n      <th>343</th>\n      <td>Chinstrap</td>\n      <td>Dream</td>\n      <td>50.2</td>\n      <td>18.7</td>\n      <td>198.0</td>\n      <td>3775.0</td>\n      <td>female</td>\n      <td>2009</td>\n    </tr>\n  </tbody>\n</table>\n<p>344 rows × 8 columns</p>\n</div>",
      "text/plain": [
       "       species     island  bill_length_mm  bill_depth_mm  flipper_length_mm  \\\n",
       "0       Adelie  Torgersen            39.1           18.7              181.0   \n",
       "1       Adelie  Torgersen            39.5           17.4              186.0   \n",
       "2       Adelie  Torgersen            40.3           18.0              195.0   \n",
       "3       Adelie  Torgersen             NaN            NaN                NaN   \n",
       "4       Adelie  Torgersen            36.7           19.3              193.0   \n",
       "..         ...        ...             ...            ...                ...   \n",
       "339  Chinstrap      Dream            55.8           19.8              207.0   \n",
       "340  Chinstrap      Dream            43.5           18.1              202.0   \n",
       "341  Chinstrap      Dream            49.6           18.2              193.0   \n",
       "342  Chinstrap      Dream            50.8           19.0              210.0   \n",
       "343  Chinstrap      Dream            50.2           18.7              198.0   \n",
       "\n",
       "     body_mass_g     sex  year  \n",
       "0         3750.0    male  2007  \n",
       "1         3800.0  female  2007  \n",
       "2         3250.0  female  2007  \n",
       "3            NaN     NaN  2007  \n",
       "4         3450.0  female  2007  \n",
       "..           ...     ...   ...  \n",
       "339       4000.0    male  2009  \n",
       "340       3400.0  female  2009  \n",
       "341       3775.0    male  2009  \n",
       "342       4100.0    male  2009  \n",
       "343       3775.0  female  2009  \n",
       "\n",
       "[344 rows x 8 columns]"
      ]
     },
     "execution_count": 3,
     "metadata": {
     },
     "output_type": "execute_result"
    }
   ],
   "source": [
    "penguins"
   ]
  },
  {
   "cell_type": "markdown",
   "id": "166daff1-10e2-464c-ab27-df44f4e577c9",
   "metadata": {
    "collapsed": false
   },
   "source": [
    "<h3>Descriptive Analytics</h3>"
   ]
  },
  {
   "cell_type": "code",
   "execution_count": 4,
   "id": "92d36968-ad54-477c-9222-5d5bc052bcd7",
   "metadata": {
    "collapsed": false
   },
   "outputs": [
    {
     "data": {
      "text/html": "<div>\n<style scoped>\n    .dataframe tbody tr th:only-of-type {\n        vertical-align: middle;\n    }\n\n    .dataframe tbody tr th {\n        vertical-align: top;\n    }\n\n    .dataframe thead th {\n        text-align: right;\n    }\n</style>\n<table border=\"1\" class=\"dataframe\">\n  <thead>\n    <tr style=\"text-align: right;\">\n      <th></th>\n      <th>bill_length_mm</th>\n      <th>bill_depth_mm</th>\n      <th>flipper_length_mm</th>\n      <th>body_mass_g</th>\n      <th>year</th>\n    </tr>\n  </thead>\n  <tbody>\n    <tr>\n      <th>count</th>\n      <td>342.000000</td>\n      <td>342.000000</td>\n      <td>342.000000</td>\n      <td>342.000000</td>\n      <td>344.000000</td>\n    </tr>\n    <tr>\n      <th>mean</th>\n      <td>43.921930</td>\n      <td>17.151170</td>\n      <td>200.915205</td>\n      <td>4201.754386</td>\n      <td>2008.029070</td>\n    </tr>\n    <tr>\n      <th>std</th>\n      <td>5.459584</td>\n      <td>1.974793</td>\n      <td>14.061714</td>\n      <td>801.954536</td>\n      <td>0.818356</td>\n    </tr>\n    <tr>\n      <th>min</th>\n      <td>32.100000</td>\n      <td>13.100000</td>\n      <td>172.000000</td>\n      <td>2700.000000</td>\n      <td>2007.000000</td>\n    </tr>\n    <tr>\n      <th>25%</th>\n      <td>39.225000</td>\n      <td>15.600000</td>\n      <td>190.000000</td>\n      <td>3550.000000</td>\n      <td>2007.000000</td>\n    </tr>\n    <tr>\n      <th>50%</th>\n      <td>44.450000</td>\n      <td>17.300000</td>\n      <td>197.000000</td>\n      <td>4050.000000</td>\n      <td>2008.000000</td>\n    </tr>\n    <tr>\n      <th>75%</th>\n      <td>48.500000</td>\n      <td>18.700000</td>\n      <td>213.000000</td>\n      <td>4750.000000</td>\n      <td>2009.000000</td>\n    </tr>\n    <tr>\n      <th>max</th>\n      <td>59.600000</td>\n      <td>21.500000</td>\n      <td>231.000000</td>\n      <td>6300.000000</td>\n      <td>2009.000000</td>\n    </tr>\n  </tbody>\n</table>\n</div>",
      "text/plain": [
       "       bill_length_mm  bill_depth_mm  flipper_length_mm  body_mass_g  \\\n",
       "count      342.000000     342.000000         342.000000   342.000000   \n",
       "mean        43.921930      17.151170         200.915205  4201.754386   \n",
       "std          5.459584       1.974793          14.061714   801.954536   \n",
       "min         32.100000      13.100000         172.000000  2700.000000   \n",
       "25%         39.225000      15.600000         190.000000  3550.000000   \n",
       "50%         44.450000      17.300000         197.000000  4050.000000   \n",
       "75%         48.500000      18.700000         213.000000  4750.000000   \n",
       "max         59.600000      21.500000         231.000000  6300.000000   \n",
       "\n",
       "              year  \n",
       "count   344.000000  \n",
       "mean   2008.029070  \n",
       "std       0.818356  \n",
       "min    2007.000000  \n",
       "25%    2007.000000  \n",
       "50%    2008.000000  \n",
       "75%    2009.000000  \n",
       "max    2009.000000  "
      ]
     },
     "execution_count": 4,
     "metadata": {
     },
     "output_type": "execute_result"
    }
   ],
   "source": [
    "penguins.describe()"
   ]
  },
  {
   "cell_type": "code",
   "execution_count": 5,
   "id": "3840b94f-bb93-4f91-94f1-fadc33b77217",
   "metadata": {
    "collapsed": false
   },
   "outputs": [
    {
     "data": {
      "text/html": "<div>\n<style scoped>\n    .dataframe tbody tr th:only-of-type {\n        vertical-align: middle;\n    }\n\n    .dataframe tbody tr th {\n        vertical-align: top;\n    }\n\n    .dataframe thead th {\n        text-align: right;\n    }\n</style>\n<table border=\"1\" class=\"dataframe\">\n  <thead>\n    <tr style=\"text-align: right;\">\n      <th></th>\n      <th>count</th>\n      <th>mean</th>\n      <th>std</th>\n      <th>min</th>\n      <th>25%</th>\n      <th>50%</th>\n      <th>75%</th>\n      <th>max</th>\n    </tr>\n  </thead>\n  <tbody>\n    <tr>\n      <th>bill_length_mm</th>\n      <td>342.0</td>\n      <td>43.921930</td>\n      <td>5.459584</td>\n      <td>32.1</td>\n      <td>39.225</td>\n      <td>44.45</td>\n      <td>48.5</td>\n      <td>59.6</td>\n    </tr>\n    <tr>\n      <th>bill_depth_mm</th>\n      <td>342.0</td>\n      <td>17.151170</td>\n      <td>1.974793</td>\n      <td>13.1</td>\n      <td>15.600</td>\n      <td>17.30</td>\n      <td>18.7</td>\n      <td>21.5</td>\n    </tr>\n    <tr>\n      <th>flipper_length_mm</th>\n      <td>342.0</td>\n      <td>200.915205</td>\n      <td>14.061714</td>\n      <td>172.0</td>\n      <td>190.000</td>\n      <td>197.00</td>\n      <td>213.0</td>\n      <td>231.0</td>\n    </tr>\n    <tr>\n      <th>body_mass_g</th>\n      <td>342.0</td>\n      <td>4201.754386</td>\n      <td>801.954536</td>\n      <td>2700.0</td>\n      <td>3550.000</td>\n      <td>4050.00</td>\n      <td>4750.0</td>\n      <td>6300.0</td>\n    </tr>\n    <tr>\n      <th>year</th>\n      <td>344.0</td>\n      <td>2008.029070</td>\n      <td>0.818356</td>\n      <td>2007.0</td>\n      <td>2007.000</td>\n      <td>2008.00</td>\n      <td>2009.0</td>\n      <td>2009.0</td>\n    </tr>\n  </tbody>\n</table>\n</div>",
      "text/plain": [
       "                   count         mean         std     min       25%      50%  \\\n",
       "bill_length_mm     342.0    43.921930    5.459584    32.1    39.225    44.45   \n",
       "bill_depth_mm      342.0    17.151170    1.974793    13.1    15.600    17.30   \n",
       "flipper_length_mm  342.0   200.915205   14.061714   172.0   190.000   197.00   \n",
       "body_mass_g        342.0  4201.754386  801.954536  2700.0  3550.000  4050.00   \n",
       "year               344.0  2008.029070    0.818356  2007.0  2007.000  2008.00   \n",
       "\n",
       "                      75%     max  \n",
       "bill_length_mm       48.5    59.6  \n",
       "bill_depth_mm        18.7    21.5  \n",
       "flipper_length_mm   213.0   231.0  \n",
       "body_mass_g        4750.0  6300.0  \n",
       "year               2009.0  2009.0  "
      ]
     },
     "execution_count": 5,
     "metadata": {
     },
     "output_type": "execute_result"
    }
   ],
   "source": [
    "penguins.describe().T"
   ]
  },
  {
   "cell_type": "markdown",
   "id": "9e01f937-0af9-45f3-a0af-510f33cfd3ee",
   "metadata": {
    "collapsed": false
   },
   "source": [
    "<h3>Cleaning the Data Frame</h3>"
   ]
  },
  {
   "cell_type": "code",
   "execution_count": 6,
   "id": "7a703359-0a3a-4c2d-9057-a1414a9c7f34",
   "metadata": {
    "collapsed": false
   },
   "outputs": [
    {
     "data": {
      "text/plain": [
       "species               0\n",
       "island                0\n",
       "bill_length_mm        2\n",
       "bill_depth_mm         2\n",
       "flipper_length_mm     2\n",
       "body_mass_g           2\n",
       "sex                  11\n",
       "year                  0\n",
       "dtype: int64"
      ]
     },
     "execution_count": 6,
     "metadata": {
     },
     "output_type": "execute_result"
    }
   ],
   "source": [
    "penguins.isnull().sum()"
   ]
  },
  {
   "cell_type": "markdown",
   "id": "5ee686c6-883e-4dfa-86ea-2a0225032e7a",
   "metadata": {
    "collapsed": false
   },
   "source": [
    "<h2>Selecting a column</h2>\n",
    "<h3>Syntax</h3><br>\n",
    "data_frame['column_name']"
   ]
  },
  {
   "cell_type": "code",
   "execution_count": 10,
   "id": "4cd8a62c-cdf5-4ea6-bd39-86536d3ad919",
   "metadata": {
    "collapsed": false
   },
   "outputs": [
    {
     "data": {
      "text/plain": [
       "0      Torgersen\n",
       "1      Torgersen\n",
       "2      Torgersen\n",
       "3      Torgersen\n",
       "4      Torgersen\n",
       "         ...    \n",
       "339        Dream\n",
       "340        Dream\n",
       "341        Dream\n",
       "342        Dream\n",
       "343        Dream\n",
       "Name: island, Length: 344, dtype: object"
      ]
     },
     "execution_count": 10,
     "metadata": {
     },
     "output_type": "execute_result"
    }
   ],
   "source": [
    "penguins['island']"
   ]
  },
  {
   "cell_type": "code",
   "execution_count": 11,
   "id": "f695735f-46c5-439a-998c-6f16754fe2c0",
   "metadata": {
    "collapsed": false
   },
   "outputs": [
    {
     "data": {
      "text/plain": [
       "0      False\n",
       "1      False\n",
       "2      False\n",
       "3      False\n",
       "4      False\n",
       "       ...  \n",
       "339     True\n",
       "340     True\n",
       "341     True\n",
       "342     True\n",
       "343     True\n",
       "Name: island, Length: 344, dtype: bool"
      ]
     },
     "execution_count": 11,
     "metadata": {
     },
     "output_type": "execute_result"
    }
   ],
   "source": [
    "penguins['island'] == 'Dream'"
   ]
  },
  {
   "cell_type": "code",
   "execution_count": 12,
   "id": "3adb8082-cd31-4515-84e4-9535dca0c21d",
   "metadata": {
    "collapsed": false
   },
   "outputs": [
    {
     "data": {
      "text/html": "<div>\n<style scoped>\n    .dataframe tbody tr th:only-of-type {\n        vertical-align: middle;\n    }\n\n    .dataframe tbody tr th {\n        vertical-align: top;\n    }\n\n    .dataframe thead th {\n        text-align: right;\n    }\n</style>\n<table border=\"1\" class=\"dataframe\">\n  <thead>\n    <tr style=\"text-align: right;\">\n      <th></th>\n      <th>species</th>\n      <th>island</th>\n      <th>bill_length_mm</th>\n      <th>bill_depth_mm</th>\n      <th>flipper_length_mm</th>\n      <th>body_mass_g</th>\n      <th>sex</th>\n      <th>year</th>\n    </tr>\n  </thead>\n  <tbody>\n    <tr>\n      <th>30</th>\n      <td>Adelie</td>\n      <td>Dream</td>\n      <td>39.5</td>\n      <td>16.7</td>\n      <td>178.0</td>\n      <td>3250.0</td>\n      <td>female</td>\n      <td>2007</td>\n    </tr>\n    <tr>\n      <th>31</th>\n      <td>Adelie</td>\n      <td>Dream</td>\n      <td>37.2</td>\n      <td>18.1</td>\n      <td>178.0</td>\n      <td>3900.0</td>\n      <td>male</td>\n      <td>2007</td>\n    </tr>\n    <tr>\n      <th>32</th>\n      <td>Adelie</td>\n      <td>Dream</td>\n      <td>39.5</td>\n      <td>17.8</td>\n      <td>188.0</td>\n      <td>3300.0</td>\n      <td>female</td>\n      <td>2007</td>\n    </tr>\n    <tr>\n      <th>33</th>\n      <td>Adelie</td>\n      <td>Dream</td>\n      <td>40.9</td>\n      <td>18.9</td>\n      <td>184.0</td>\n      <td>3900.0</td>\n      <td>male</td>\n      <td>2007</td>\n    </tr>\n    <tr>\n      <th>34</th>\n      <td>Adelie</td>\n      <td>Dream</td>\n      <td>36.4</td>\n      <td>17.0</td>\n      <td>195.0</td>\n      <td>3325.0</td>\n      <td>female</td>\n      <td>2007</td>\n    </tr>\n    <tr>\n      <th>...</th>\n      <td>...</td>\n      <td>...</td>\n      <td>...</td>\n      <td>...</td>\n      <td>...</td>\n      <td>...</td>\n      <td>...</td>\n      <td>...</td>\n    </tr>\n    <tr>\n      <th>339</th>\n      <td>Chinstrap</td>\n      <td>Dream</td>\n      <td>55.8</td>\n      <td>19.8</td>\n      <td>207.0</td>\n      <td>4000.0</td>\n      <td>male</td>\n      <td>2009</td>\n    </tr>\n    <tr>\n      <th>340</th>\n      <td>Chinstrap</td>\n      <td>Dream</td>\n      <td>43.5</td>\n      <td>18.1</td>\n      <td>202.0</td>\n      <td>3400.0</td>\n      <td>female</td>\n      <td>2009</td>\n    </tr>\n    <tr>\n      <th>341</th>\n      <td>Chinstrap</td>\n      <td>Dream</td>\n      <td>49.6</td>\n      <td>18.2</td>\n      <td>193.0</td>\n      <td>3775.0</td>\n      <td>male</td>\n      <td>2009</td>\n    </tr>\n    <tr>\n      <th>342</th>\n      <td>Chinstrap</td>\n      <td>Dream</td>\n      <td>50.8</td>\n      <td>19.0</td>\n      <td>210.0</td>\n      <td>4100.0</td>\n      <td>male</td>\n      <td>2009</td>\n    </tr>\n    <tr>\n      <th>343</th>\n      <td>Chinstrap</td>\n      <td>Dream</td>\n      <td>50.2</td>\n      <td>18.7</td>\n      <td>198.0</td>\n      <td>3775.0</td>\n      <td>female</td>\n      <td>2009</td>\n    </tr>\n  </tbody>\n</table>\n<p>124 rows × 8 columns</p>\n</div>",
      "text/plain": [
       "       species island  bill_length_mm  bill_depth_mm  flipper_length_mm  \\\n",
       "30      Adelie  Dream            39.5           16.7              178.0   \n",
       "31      Adelie  Dream            37.2           18.1              178.0   \n",
       "32      Adelie  Dream            39.5           17.8              188.0   \n",
       "33      Adelie  Dream            40.9           18.9              184.0   \n",
       "34      Adelie  Dream            36.4           17.0              195.0   \n",
       "..         ...    ...             ...            ...                ...   \n",
       "339  Chinstrap  Dream            55.8           19.8              207.0   \n",
       "340  Chinstrap  Dream            43.5           18.1              202.0   \n",
       "341  Chinstrap  Dream            49.6           18.2              193.0   \n",
       "342  Chinstrap  Dream            50.8           19.0              210.0   \n",
       "343  Chinstrap  Dream            50.2           18.7              198.0   \n",
       "\n",
       "     body_mass_g     sex  year  \n",
       "30        3250.0  female  2007  \n",
       "31        3900.0    male  2007  \n",
       "32        3300.0  female  2007  \n",
       "33        3900.0    male  2007  \n",
       "34        3325.0  female  2007  \n",
       "..           ...     ...   ...  \n",
       "339       4000.0    male  2009  \n",
       "340       3400.0  female  2009  \n",
       "341       3775.0    male  2009  \n",
       "342       4100.0    male  2009  \n",
       "343       3775.0  female  2009  \n",
       "\n",
       "[124 rows x 8 columns]"
      ]
     },
     "execution_count": 12,
     "metadata": {
     },
     "output_type": "execute_result"
    }
   ],
   "source": [
    "penguins[penguins['island'] == 'Dream']"
   ]
  },
  {
   "cell_type": "code",
   "execution_count": 13,
   "id": "e2ce8555-f03b-459c-82a3-35eb8fec262d",
   "metadata": {
    "collapsed": false
   },
   "outputs": [
    {
     "data": {
      "text/plain": [
       "species\n",
       "Adelie       152\n",
       "Gentoo       124\n",
       "Chinstrap     68\n",
       "Name: count, dtype: int64"
      ]
     },
     "execution_count": 13,
     "metadata": {
     },
     "output_type": "execute_result"
    }
   ],
   "source": [
    "penguins['species'].value_counts()"
   ]
  },
  {
   "cell_type": "code",
   "execution_count": 14,
   "id": "c3cd7409-a5fa-42df-8b09-20bd72daf354",
   "metadata": {
    "collapsed": false
   },
   "outputs": [
   ],
   "source": [
    "adelie_df = penguins[penguins['species'] == \"Adelie\"]"
   ]
  },
  {
   "cell_type": "code",
   "execution_count": 15,
   "id": "c16c58b6-7676-4a0d-a2f7-ba97644ec25a",
   "metadata": {
    "collapsed": false
   },
   "outputs": [
    {
     "data": {
      "text/html": "<div>\n<style scoped>\n    .dataframe tbody tr th:only-of-type {\n        vertical-align: middle;\n    }\n\n    .dataframe tbody tr th {\n        vertical-align: top;\n    }\n\n    .dataframe thead th {\n        text-align: right;\n    }\n</style>\n<table border=\"1\" class=\"dataframe\">\n  <thead>\n    <tr style=\"text-align: right;\">\n      <th></th>\n      <th>species</th>\n      <th>island</th>\n      <th>bill_length_mm</th>\n      <th>bill_depth_mm</th>\n      <th>flipper_length_mm</th>\n      <th>body_mass_g</th>\n      <th>sex</th>\n      <th>year</th>\n    </tr>\n  </thead>\n  <tbody>\n    <tr>\n      <th>0</th>\n      <td>Adelie</td>\n      <td>Torgersen</td>\n      <td>39.1</td>\n      <td>18.7</td>\n      <td>181.0</td>\n      <td>3750.0</td>\n      <td>male</td>\n      <td>2007</td>\n    </tr>\n    <tr>\n      <th>1</th>\n      <td>Adelie</td>\n      <td>Torgersen</td>\n      <td>39.5</td>\n      <td>17.4</td>\n      <td>186.0</td>\n      <td>3800.0</td>\n      <td>female</td>\n      <td>2007</td>\n    </tr>\n    <tr>\n      <th>2</th>\n      <td>Adelie</td>\n      <td>Torgersen</td>\n      <td>40.3</td>\n      <td>18.0</td>\n      <td>195.0</td>\n      <td>3250.0</td>\n      <td>female</td>\n      <td>2007</td>\n    </tr>\n    <tr>\n      <th>3</th>\n      <td>Adelie</td>\n      <td>Torgersen</td>\n      <td>NaN</td>\n      <td>NaN</td>\n      <td>NaN</td>\n      <td>NaN</td>\n      <td>NaN</td>\n      <td>2007</td>\n    </tr>\n    <tr>\n      <th>4</th>\n      <td>Adelie</td>\n      <td>Torgersen</td>\n      <td>36.7</td>\n      <td>19.3</td>\n      <td>193.0</td>\n      <td>3450.0</td>\n      <td>female</td>\n      <td>2007</td>\n    </tr>\n    <tr>\n      <th>...</th>\n      <td>...</td>\n      <td>...</td>\n      <td>...</td>\n      <td>...</td>\n      <td>...</td>\n      <td>...</td>\n      <td>...</td>\n      <td>...</td>\n    </tr>\n    <tr>\n      <th>147</th>\n      <td>Adelie</td>\n      <td>Dream</td>\n      <td>36.6</td>\n      <td>18.4</td>\n      <td>184.0</td>\n      <td>3475.0</td>\n      <td>female</td>\n      <td>2009</td>\n    </tr>\n    <tr>\n      <th>148</th>\n      <td>Adelie</td>\n      <td>Dream</td>\n      <td>36.0</td>\n      <td>17.8</td>\n      <td>195.0</td>\n      <td>3450.0</td>\n      <td>female</td>\n      <td>2009</td>\n    </tr>\n    <tr>\n      <th>149</th>\n      <td>Adelie</td>\n      <td>Dream</td>\n      <td>37.8</td>\n      <td>18.1</td>\n      <td>193.0</td>\n      <td>3750.0</td>\n      <td>male</td>\n      <td>2009</td>\n    </tr>\n    <tr>\n      <th>150</th>\n      <td>Adelie</td>\n      <td>Dream</td>\n      <td>36.0</td>\n      <td>17.1</td>\n      <td>187.0</td>\n      <td>3700.0</td>\n      <td>female</td>\n      <td>2009</td>\n    </tr>\n    <tr>\n      <th>151</th>\n      <td>Adelie</td>\n      <td>Dream</td>\n      <td>41.5</td>\n      <td>18.5</td>\n      <td>201.0</td>\n      <td>4000.0</td>\n      <td>male</td>\n      <td>2009</td>\n    </tr>\n  </tbody>\n</table>\n<p>152 rows × 8 columns</p>\n</div>",
      "text/plain": [
       "    species     island  bill_length_mm  bill_depth_mm  flipper_length_mm  \\\n",
       "0    Adelie  Torgersen            39.1           18.7              181.0   \n",
       "1    Adelie  Torgersen            39.5           17.4              186.0   \n",
       "2    Adelie  Torgersen            40.3           18.0              195.0   \n",
       "3    Adelie  Torgersen             NaN            NaN                NaN   \n",
       "4    Adelie  Torgersen            36.7           19.3              193.0   \n",
       "..      ...        ...             ...            ...                ...   \n",
       "147  Adelie      Dream            36.6           18.4              184.0   \n",
       "148  Adelie      Dream            36.0           17.8              195.0   \n",
       "149  Adelie      Dream            37.8           18.1              193.0   \n",
       "150  Adelie      Dream            36.0           17.1              187.0   \n",
       "151  Adelie      Dream            41.5           18.5              201.0   \n",
       "\n",
       "     body_mass_g     sex  year  \n",
       "0         3750.0    male  2007  \n",
       "1         3800.0  female  2007  \n",
       "2         3250.0  female  2007  \n",
       "3            NaN     NaN  2007  \n",
       "4         3450.0  female  2007  \n",
       "..           ...     ...   ...  \n",
       "147       3475.0  female  2009  \n",
       "148       3450.0  female  2009  \n",
       "149       3750.0    male  2009  \n",
       "150       3700.0  female  2009  \n",
       "151       4000.0    male  2009  \n",
       "\n",
       "[152 rows x 8 columns]"
      ]
     },
     "execution_count": 15,
     "metadata": {
     },
     "output_type": "execute_result"
    }
   ],
   "source": [
    "adelie_df"
   ]
  },
  {
   "cell_type": "code",
   "execution_count": 16,
   "id": "8adc3c00-a95f-42c1-b2de-c52cc98137c2",
   "metadata": {
    "collapsed": false
   },
   "outputs": [
   ],
   "source": [
    "gentoo_df = penguins[penguins['species'] == \"Gentoo\"]"
   ]
  },
  {
   "cell_type": "code",
   "execution_count": 17,
   "id": "c322c19b-772f-484b-ac53-4c2f93cb52cc",
   "metadata": {
    "collapsed": false
   },
   "outputs": [
    {
     "data": {
      "text/html": "<div>\n<style scoped>\n    .dataframe tbody tr th:only-of-type {\n        vertical-align: middle;\n    }\n\n    .dataframe tbody tr th {\n        vertical-align: top;\n    }\n\n    .dataframe thead th {\n        text-align: right;\n    }\n</style>\n<table border=\"1\" class=\"dataframe\">\n  <thead>\n    <tr style=\"text-align: right;\">\n      <th></th>\n      <th>species</th>\n      <th>island</th>\n      <th>bill_length_mm</th>\n      <th>bill_depth_mm</th>\n      <th>flipper_length_mm</th>\n      <th>body_mass_g</th>\n      <th>sex</th>\n      <th>year</th>\n    </tr>\n  </thead>\n  <tbody>\n    <tr>\n      <th>152</th>\n      <td>Gentoo</td>\n      <td>Biscoe</td>\n      <td>46.1</td>\n      <td>13.2</td>\n      <td>211.0</td>\n      <td>4500.0</td>\n      <td>female</td>\n      <td>2007</td>\n    </tr>\n    <tr>\n      <th>153</th>\n      <td>Gentoo</td>\n      <td>Biscoe</td>\n      <td>50.0</td>\n      <td>16.3</td>\n      <td>230.0</td>\n      <td>5700.0</td>\n      <td>male</td>\n      <td>2007</td>\n    </tr>\n    <tr>\n      <th>154</th>\n      <td>Gentoo</td>\n      <td>Biscoe</td>\n      <td>48.7</td>\n      <td>14.1</td>\n      <td>210.0</td>\n      <td>4450.0</td>\n      <td>female</td>\n      <td>2007</td>\n    </tr>\n    <tr>\n      <th>155</th>\n      <td>Gentoo</td>\n      <td>Biscoe</td>\n      <td>50.0</td>\n      <td>15.2</td>\n      <td>218.0</td>\n      <td>5700.0</td>\n      <td>male</td>\n      <td>2007</td>\n    </tr>\n    <tr>\n      <th>156</th>\n      <td>Gentoo</td>\n      <td>Biscoe</td>\n      <td>47.6</td>\n      <td>14.5</td>\n      <td>215.0</td>\n      <td>5400.0</td>\n      <td>male</td>\n      <td>2007</td>\n    </tr>\n    <tr>\n      <th>...</th>\n      <td>...</td>\n      <td>...</td>\n      <td>...</td>\n      <td>...</td>\n      <td>...</td>\n      <td>...</td>\n      <td>...</td>\n      <td>...</td>\n    </tr>\n    <tr>\n      <th>271</th>\n      <td>Gentoo</td>\n      <td>Biscoe</td>\n      <td>NaN</td>\n      <td>NaN</td>\n      <td>NaN</td>\n      <td>NaN</td>\n      <td>NaN</td>\n      <td>2009</td>\n    </tr>\n    <tr>\n      <th>272</th>\n      <td>Gentoo</td>\n      <td>Biscoe</td>\n      <td>46.8</td>\n      <td>14.3</td>\n      <td>215.0</td>\n      <td>4850.0</td>\n      <td>female</td>\n      <td>2009</td>\n    </tr>\n    <tr>\n      <th>273</th>\n      <td>Gentoo</td>\n      <td>Biscoe</td>\n      <td>50.4</td>\n      <td>15.7</td>\n      <td>222.0</td>\n      <td>5750.0</td>\n      <td>male</td>\n      <td>2009</td>\n    </tr>\n    <tr>\n      <th>274</th>\n      <td>Gentoo</td>\n      <td>Biscoe</td>\n      <td>45.2</td>\n      <td>14.8</td>\n      <td>212.0</td>\n      <td>5200.0</td>\n      <td>female</td>\n      <td>2009</td>\n    </tr>\n    <tr>\n      <th>275</th>\n      <td>Gentoo</td>\n      <td>Biscoe</td>\n      <td>49.9</td>\n      <td>16.1</td>\n      <td>213.0</td>\n      <td>5400.0</td>\n      <td>male</td>\n      <td>2009</td>\n    </tr>\n  </tbody>\n</table>\n<p>124 rows × 8 columns</p>\n</div>",
      "text/plain": [
       "    species  island  bill_length_mm  bill_depth_mm  flipper_length_mm  \\\n",
       "152  Gentoo  Biscoe            46.1           13.2              211.0   \n",
       "153  Gentoo  Biscoe            50.0           16.3              230.0   \n",
       "154  Gentoo  Biscoe            48.7           14.1              210.0   \n",
       "155  Gentoo  Biscoe            50.0           15.2              218.0   \n",
       "156  Gentoo  Biscoe            47.6           14.5              215.0   \n",
       "..      ...     ...             ...            ...                ...   \n",
       "271  Gentoo  Biscoe             NaN            NaN                NaN   \n",
       "272  Gentoo  Biscoe            46.8           14.3              215.0   \n",
       "273  Gentoo  Biscoe            50.4           15.7              222.0   \n",
       "274  Gentoo  Biscoe            45.2           14.8              212.0   \n",
       "275  Gentoo  Biscoe            49.9           16.1              213.0   \n",
       "\n",
       "     body_mass_g     sex  year  \n",
       "152       4500.0  female  2007  \n",
       "153       5700.0    male  2007  \n",
       "154       4450.0  female  2007  \n",
       "155       5700.0    male  2007  \n",
       "156       5400.0    male  2007  \n",
       "..           ...     ...   ...  \n",
       "271          NaN     NaN  2009  \n",
       "272       4850.0  female  2009  \n",
       "273       5750.0    male  2009  \n",
       "274       5200.0  female  2009  \n",
       "275       5400.0    male  2009  \n",
       "\n",
       "[124 rows x 8 columns]"
      ]
     },
     "execution_count": 17,
     "metadata": {
     },
     "output_type": "execute_result"
    }
   ],
   "source": [
    "gentoo_df"
   ]
  },
  {
   "cell_type": "code",
   "execution_count": 18,
   "id": "a815e497-731f-4292-81b4-b14d4426fe8d",
   "metadata": {
    "collapsed": false
   },
   "outputs": [
   ],
   "source": [
    "chinstrap_df = penguins[penguins['species'] == \"Chinstrap\"]"
   ]
  },
  {
   "cell_type": "code",
   "execution_count": 19,
   "id": "0ffba9ac-f3a8-42ce-987f-b6257655c83c",
   "metadata": {
    "collapsed": false
   },
   "outputs": [
    {
     "data": {
      "text/html": "<div>\n<style scoped>\n    .dataframe tbody tr th:only-of-type {\n        vertical-align: middle;\n    }\n\n    .dataframe tbody tr th {\n        vertical-align: top;\n    }\n\n    .dataframe thead th {\n        text-align: right;\n    }\n</style>\n<table border=\"1\" class=\"dataframe\">\n  <thead>\n    <tr style=\"text-align: right;\">\n      <th></th>\n      <th>species</th>\n      <th>island</th>\n      <th>bill_length_mm</th>\n      <th>bill_depth_mm</th>\n      <th>flipper_length_mm</th>\n      <th>body_mass_g</th>\n      <th>sex</th>\n      <th>year</th>\n    </tr>\n  </thead>\n  <tbody>\n    <tr>\n      <th>276</th>\n      <td>Chinstrap</td>\n      <td>Dream</td>\n      <td>46.5</td>\n      <td>17.9</td>\n      <td>192.0</td>\n      <td>3500.0</td>\n      <td>female</td>\n      <td>2007</td>\n    </tr>\n    <tr>\n      <th>277</th>\n      <td>Chinstrap</td>\n      <td>Dream</td>\n      <td>50.0</td>\n      <td>19.5</td>\n      <td>196.0</td>\n      <td>3900.0</td>\n      <td>male</td>\n      <td>2007</td>\n    </tr>\n    <tr>\n      <th>278</th>\n      <td>Chinstrap</td>\n      <td>Dream</td>\n      <td>51.3</td>\n      <td>19.2</td>\n      <td>193.0</td>\n      <td>3650.0</td>\n      <td>male</td>\n      <td>2007</td>\n    </tr>\n    <tr>\n      <th>279</th>\n      <td>Chinstrap</td>\n      <td>Dream</td>\n      <td>45.4</td>\n      <td>18.7</td>\n      <td>188.0</td>\n      <td>3525.0</td>\n      <td>female</td>\n      <td>2007</td>\n    </tr>\n    <tr>\n      <th>280</th>\n      <td>Chinstrap</td>\n      <td>Dream</td>\n      <td>52.7</td>\n      <td>19.8</td>\n      <td>197.0</td>\n      <td>3725.0</td>\n      <td>male</td>\n      <td>2007</td>\n    </tr>\n    <tr>\n      <th>...</th>\n      <td>...</td>\n      <td>...</td>\n      <td>...</td>\n      <td>...</td>\n      <td>...</td>\n      <td>...</td>\n      <td>...</td>\n      <td>...</td>\n    </tr>\n    <tr>\n      <th>339</th>\n      <td>Chinstrap</td>\n      <td>Dream</td>\n      <td>55.8</td>\n      <td>19.8</td>\n      <td>207.0</td>\n      <td>4000.0</td>\n      <td>male</td>\n      <td>2009</td>\n    </tr>\n    <tr>\n      <th>340</th>\n      <td>Chinstrap</td>\n      <td>Dream</td>\n      <td>43.5</td>\n      <td>18.1</td>\n      <td>202.0</td>\n      <td>3400.0</td>\n      <td>female</td>\n      <td>2009</td>\n    </tr>\n    <tr>\n      <th>341</th>\n      <td>Chinstrap</td>\n      <td>Dream</td>\n      <td>49.6</td>\n      <td>18.2</td>\n      <td>193.0</td>\n      <td>3775.0</td>\n      <td>male</td>\n      <td>2009</td>\n    </tr>\n    <tr>\n      <th>342</th>\n      <td>Chinstrap</td>\n      <td>Dream</td>\n      <td>50.8</td>\n      <td>19.0</td>\n      <td>210.0</td>\n      <td>4100.0</td>\n      <td>male</td>\n      <td>2009</td>\n    </tr>\n    <tr>\n      <th>343</th>\n      <td>Chinstrap</td>\n      <td>Dream</td>\n      <td>50.2</td>\n      <td>18.7</td>\n      <td>198.0</td>\n      <td>3775.0</td>\n      <td>female</td>\n      <td>2009</td>\n    </tr>\n  </tbody>\n</table>\n<p>68 rows × 8 columns</p>\n</div>",
      "text/plain": [
       "       species island  bill_length_mm  bill_depth_mm  flipper_length_mm  \\\n",
       "276  Chinstrap  Dream            46.5           17.9              192.0   \n",
       "277  Chinstrap  Dream            50.0           19.5              196.0   \n",
       "278  Chinstrap  Dream            51.3           19.2              193.0   \n",
       "279  Chinstrap  Dream            45.4           18.7              188.0   \n",
       "280  Chinstrap  Dream            52.7           19.8              197.0   \n",
       "..         ...    ...             ...            ...                ...   \n",
       "339  Chinstrap  Dream            55.8           19.8              207.0   \n",
       "340  Chinstrap  Dream            43.5           18.1              202.0   \n",
       "341  Chinstrap  Dream            49.6           18.2              193.0   \n",
       "342  Chinstrap  Dream            50.8           19.0              210.0   \n",
       "343  Chinstrap  Dream            50.2           18.7              198.0   \n",
       "\n",
       "     body_mass_g     sex  year  \n",
       "276       3500.0  female  2007  \n",
       "277       3900.0    male  2007  \n",
       "278       3650.0    male  2007  \n",
       "279       3525.0  female  2007  \n",
       "280       3725.0    male  2007  \n",
       "..           ...     ...   ...  \n",
       "339       4000.0    male  2009  \n",
       "340       3400.0  female  2009  \n",
       "341       3775.0    male  2009  \n",
       "342       4100.0    male  2009  \n",
       "343       3775.0  female  2009  \n",
       "\n",
       "[68 rows x 8 columns]"
      ]
     },
     "execution_count": 19,
     "metadata": {
     },
     "output_type": "execute_result"
    }
   ],
   "source": [
    "chinstrap_df"
   ]
  },
  {
   "cell_type": "code",
   "execution_count": 20,
   "id": "53b7c100-98a6-40b5-8c34-1ec4568641a0",
   "metadata": {
    "collapsed": false
   },
   "outputs": [
    {
     "data": {
      "text/html": "<div>\n<style scoped>\n    .dataframe tbody tr th:only-of-type {\n        vertical-align: middle;\n    }\n\n    .dataframe tbody tr th {\n        vertical-align: top;\n    }\n\n    .dataframe thead th {\n        text-align: right;\n    }\n</style>\n<table border=\"1\" class=\"dataframe\">\n  <thead>\n    <tr style=\"text-align: right;\">\n      <th></th>\n      <th>species</th>\n      <th>island</th>\n      <th>bill_length_mm</th>\n      <th>bill_depth_mm</th>\n      <th>flipper_length_mm</th>\n      <th>body_mass_g</th>\n      <th>sex</th>\n      <th>year</th>\n    </tr>\n  </thead>\n  <tbody>\n    <tr>\n      <th>284</th>\n      <td>Chinstrap</td>\n      <td>Dream</td>\n      <td>46.0</td>\n      <td>18.9</td>\n      <td>195.0</td>\n      <td>4150.0</td>\n      <td>female</td>\n      <td>2007</td>\n    </tr>\n    <tr>\n      <th>289</th>\n      <td>Chinstrap</td>\n      <td>Dream</td>\n      <td>52.0</td>\n      <td>18.1</td>\n      <td>201.0</td>\n      <td>4050.0</td>\n      <td>male</td>\n      <td>2007</td>\n    </tr>\n    <tr>\n      <th>291</th>\n      <td>Chinstrap</td>\n      <td>Dream</td>\n      <td>50.5</td>\n      <td>19.6</td>\n      <td>201.0</td>\n      <td>4050.0</td>\n      <td>male</td>\n      <td>2007</td>\n    </tr>\n    <tr>\n      <th>295</th>\n      <td>Chinstrap</td>\n      <td>Dream</td>\n      <td>49.2</td>\n      <td>18.2</td>\n      <td>195.0</td>\n      <td>4400.0</td>\n      <td>male</td>\n      <td>2007</td>\n    </tr>\n    <tr>\n      <th>301</th>\n      <td>Chinstrap</td>\n      <td>Dream</td>\n      <td>52.0</td>\n      <td>19.0</td>\n      <td>197.0</td>\n      <td>4150.0</td>\n      <td>male</td>\n      <td>2007</td>\n    </tr>\n    <tr>\n      <th>305</th>\n      <td>Chinstrap</td>\n      <td>Dream</td>\n      <td>52.8</td>\n      <td>20.0</td>\n      <td>205.0</td>\n      <td>4550.0</td>\n      <td>male</td>\n      <td>2008</td>\n    </tr>\n    <tr>\n      <th>307</th>\n      <td>Chinstrap</td>\n      <td>Dream</td>\n      <td>54.2</td>\n      <td>20.8</td>\n      <td>201.0</td>\n      <td>4300.0</td>\n      <td>male</td>\n      <td>2008</td>\n    </tr>\n    <tr>\n      <th>309</th>\n      <td>Chinstrap</td>\n      <td>Dream</td>\n      <td>51.0</td>\n      <td>18.8</td>\n      <td>203.0</td>\n      <td>4100.0</td>\n      <td>male</td>\n      <td>2008</td>\n    </tr>\n    <tr>\n      <th>313</th>\n      <td>Chinstrap</td>\n      <td>Dream</td>\n      <td>52.0</td>\n      <td>20.7</td>\n      <td>210.0</td>\n      <td>4800.0</td>\n      <td>male</td>\n      <td>2008</td>\n    </tr>\n    <tr>\n      <th>315</th>\n      <td>Chinstrap</td>\n      <td>Dream</td>\n      <td>53.5</td>\n      <td>19.9</td>\n      <td>205.0</td>\n      <td>4500.0</td>\n      <td>male</td>\n      <td>2008</td>\n    </tr>\n    <tr>\n      <th>321</th>\n      <td>Chinstrap</td>\n      <td>Dream</td>\n      <td>50.8</td>\n      <td>18.5</td>\n      <td>201.0</td>\n      <td>4450.0</td>\n      <td>male</td>\n      <td>2009</td>\n    </tr>\n    <tr>\n      <th>323</th>\n      <td>Chinstrap</td>\n      <td>Dream</td>\n      <td>49.0</td>\n      <td>19.6</td>\n      <td>212.0</td>\n      <td>4300.0</td>\n      <td>male</td>\n      <td>2009</td>\n    </tr>\n    <tr>\n      <th>329</th>\n      <td>Chinstrap</td>\n      <td>Dream</td>\n      <td>50.7</td>\n      <td>19.7</td>\n      <td>203.0</td>\n      <td>4050.0</td>\n      <td>male</td>\n      <td>2009</td>\n    </tr>\n    <tr>\n      <th>333</th>\n      <td>Chinstrap</td>\n      <td>Dream</td>\n      <td>49.3</td>\n      <td>19.9</td>\n      <td>203.0</td>\n      <td>4050.0</td>\n      <td>male</td>\n      <td>2009</td>\n    </tr>\n    <tr>\n      <th>339</th>\n      <td>Chinstrap</td>\n      <td>Dream</td>\n      <td>55.8</td>\n      <td>19.8</td>\n      <td>207.0</td>\n      <td>4000.0</td>\n      <td>male</td>\n      <td>2009</td>\n    </tr>\n    <tr>\n      <th>342</th>\n      <td>Chinstrap</td>\n      <td>Dream</td>\n      <td>50.8</td>\n      <td>19.0</td>\n      <td>210.0</td>\n      <td>4100.0</td>\n      <td>male</td>\n      <td>2009</td>\n    </tr>\n  </tbody>\n</table>\n</div>",
      "text/plain": [
       "       species island  bill_length_mm  bill_depth_mm  flipper_length_mm  \\\n",
       "284  Chinstrap  Dream            46.0           18.9              195.0   \n",
       "289  Chinstrap  Dream            52.0           18.1              201.0   \n",
       "291  Chinstrap  Dream            50.5           19.6              201.0   \n",
       "295  Chinstrap  Dream            49.2           18.2              195.0   \n",
       "301  Chinstrap  Dream            52.0           19.0              197.0   \n",
       "305  Chinstrap  Dream            52.8           20.0              205.0   \n",
       "307  Chinstrap  Dream            54.2           20.8              201.0   \n",
       "309  Chinstrap  Dream            51.0           18.8              203.0   \n",
       "313  Chinstrap  Dream            52.0           20.7              210.0   \n",
       "315  Chinstrap  Dream            53.5           19.9              205.0   \n",
       "321  Chinstrap  Dream            50.8           18.5              201.0   \n",
       "323  Chinstrap  Dream            49.0           19.6              212.0   \n",
       "329  Chinstrap  Dream            50.7           19.7              203.0   \n",
       "333  Chinstrap  Dream            49.3           19.9              203.0   \n",
       "339  Chinstrap  Dream            55.8           19.8              207.0   \n",
       "342  Chinstrap  Dream            50.8           19.0              210.0   \n",
       "\n",
       "     body_mass_g     sex  year  \n",
       "284       4150.0  female  2007  \n",
       "289       4050.0    male  2007  \n",
       "291       4050.0    male  2007  \n",
       "295       4400.0    male  2007  \n",
       "301       4150.0    male  2007  \n",
       "305       4550.0    male  2008  \n",
       "307       4300.0    male  2008  \n",
       "309       4100.0    male  2008  \n",
       "313       4800.0    male  2008  \n",
       "315       4500.0    male  2008  \n",
       "321       4450.0    male  2009  \n",
       "323       4300.0    male  2009  \n",
       "329       4050.0    male  2009  \n",
       "333       4050.0    male  2009  \n",
       "339       4000.0    male  2009  \n",
       "342       4100.0    male  2009  "
      ]
     },
     "execution_count": 20,
     "metadata": {
     },
     "output_type": "execute_result"
    }
   ],
   "source": [
    "penguins[(penguins['species'] == \"Chinstrap\") & (penguins['body_mass_g'] >= 4000)]"
   ]
  },
  {
   "cell_type": "code",
   "execution_count": 21,
   "id": "339f05f5-dac5-4a28-85a1-a38b3990e105",
   "metadata": {
    "collapsed": false
   },
   "outputs": [
    {
     "name": "stdout",
     "output_type": "stream",
     "text": [
      "<class 'pandas.core.frame.DataFrame'>\n",
      "Index: 16 entries, 284 to 342\n",
      "Data columns (total 8 columns):\n",
      " #   Column             Non-Null Count  Dtype  \n",
      "---  ------             --------------  -----  \n",
      " 0   species            16 non-null     object \n",
      " 1   island             16 non-null     object \n",
      " 2   bill_length_mm     16 non-null     float64\n",
      " 3   bill_depth_mm      16 non-null     float64\n",
      " 4   flipper_length_mm  16 non-null     float64\n",
      " 5   body_mass_g        16 non-null     float64\n",
      " 6   sex                16 non-null     object \n",
      " 7   year               16 non-null     int64  \n",
      "dtypes: float64(4), int64(1), object(3)\n",
      "memory usage: 1.1+ KB\n"
     ]
    }
   ],
   "source": [
    "penguins[(penguins['species'] == \"Chinstrap\") & (penguins['body_mass_g'] >= 4000)].info()"
   ]
  },
  {
   "cell_type": "code",
   "execution_count": 22,
   "id": "1a5ee9af-24dd-437e-8765-e98a2025db91",
   "metadata": {
    "collapsed": false
   },
   "outputs": [
    {
     "name": "stdout",
     "output_type": "stream",
     "text": [
      "<class 'pandas.core.frame.DataFrame'>\n",
      "Index: 1 entries, 284 to 284\n",
      "Data columns (total 8 columns):\n",
      " #   Column             Non-Null Count  Dtype  \n",
      "---  ------             --------------  -----  \n",
      " 0   species            1 non-null      object \n",
      " 1   island             1 non-null      object \n",
      " 2   bill_length_mm     1 non-null      float64\n",
      " 3   bill_depth_mm      1 non-null      float64\n",
      " 4   flipper_length_mm  1 non-null      float64\n",
      " 5   body_mass_g        1 non-null      float64\n",
      " 6   sex                1 non-null      object \n",
      " 7   year               1 non-null      int64  \n",
      "dtypes: float64(4), int64(1), object(3)\n",
      "memory usage: 72.0+ bytes\n"
     ]
    }
   ],
   "source": [
    "penguins[(penguins['species'] == \"Chinstrap\") & (penguins['body_mass_g'] >= 4000) & (penguins['sex'] == 'female')].info()"
   ]
  },
  {
   "cell_type": "code",
   "execution_count": 23,
   "id": "e780c6ea-3fc2-4456-8de3-ce8021a2360c",
   "metadata": {
    "collapsed": false
   },
   "outputs": [
    {
     "name": "stdout",
     "output_type": "stream",
     "text": [
      "<class 'pandas.core.frame.DataFrame'>\n",
      "Index: 15 entries, 289 to 342\n",
      "Data columns (total 8 columns):\n",
      " #   Column             Non-Null Count  Dtype  \n",
      "---  ------             --------------  -----  \n",
      " 0   species            15 non-null     object \n",
      " 1   island             15 non-null     object \n",
      " 2   bill_length_mm     15 non-null     float64\n",
      " 3   bill_depth_mm      15 non-null     float64\n",
      " 4   flipper_length_mm  15 non-null     float64\n",
      " 5   body_mass_g        15 non-null     float64\n",
      " 6   sex                15 non-null     object \n",
      " 7   year               15 non-null     int64  \n",
      "dtypes: float64(4), int64(1), object(3)\n",
      "memory usage: 1.1+ KB\n"
     ]
    }
   ],
   "source": [
    "penguins[(penguins['species'] == \"Chinstrap\") & (penguins['body_mass_g'] >= 4000) & (penguins['sex'] == 'male')].info()"
   ]
  },
  {
   "cell_type": "markdown",
   "id": "9719caf8-4d72-4b30-adf8-09079d61d457",
   "metadata": {
    "collapsed": false
   },
   "source": [
    "<h1>HOW TO FILL UP NULL VALUE</h1>"
   ]
  },
  {
   "cell_type": "code",
   "execution_count": 24,
   "id": "c10abe5e-7de6-4b1b-b1a7-2c671b3fc459",
   "metadata": {
    "collapsed": false
   },
   "outputs": [
    {
     "data": {
      "text/plain": [
       "species               0\n",
       "island                0\n",
       "bill_length_mm        2\n",
       "bill_depth_mm         2\n",
       "flipper_length_mm     2\n",
       "body_mass_g           2\n",
       "sex                  11\n",
       "year                  0\n",
       "dtype: int64"
      ]
     },
     "execution_count": 24,
     "metadata": {
     },
     "output_type": "execute_result"
    }
   ],
   "source": [
    "penguins.isnull().sum()"
   ]
  },
  {
   "cell_type": "code",
   "execution_count": 25,
   "id": "f6490055-cd35-4847-bee7-f9fcedcc7f4f",
   "metadata": {
    "collapsed": false
   },
   "outputs": [
   ],
   "source": [
    "penguins['bill_length_mm'] = penguins['bill_length_mm'].fillna(penguins['bill_length_mm'].mean())"
   ]
  },
  {
   "cell_type": "code",
   "execution_count": 26,
   "id": "0469c043-a517-4d5c-8b21-c2c4fba82ea4",
   "metadata": {
    "collapsed": false
   },
   "outputs": [
    {
     "data": {
      "text/plain": [
       "species               0\n",
       "island                0\n",
       "bill_length_mm        0\n",
       "bill_depth_mm         2\n",
       "flipper_length_mm     2\n",
       "body_mass_g           2\n",
       "sex                  11\n",
       "year                  0\n",
       "dtype: int64"
      ]
     },
     "execution_count": 26,
     "metadata": {
     },
     "output_type": "execute_result"
    }
   ],
   "source": [
    "penguins.isnull().sum()"
   ]
  },
  {
   "cell_type": "code",
   "execution_count": 27,
   "id": "e10c02d6-8593-4972-b332-0004fc2c7f75",
   "metadata": {
    "collapsed": false
   },
   "outputs": [
   ],
   "source": [
    "penguins['flipper_length_mm'] = penguins['flipper_length_mm'].fillna(penguins['flipper_length_mm'].mean())"
   ]
  },
  {
   "cell_type": "code",
   "execution_count": 28,
   "id": "0aa7a44d-dc29-41aa-ba8d-db38ef900633",
   "metadata": {
    "collapsed": false
   },
   "outputs": [
    {
     "data": {
      "text/plain": [
       "species               0\n",
       "island                0\n",
       "bill_length_mm        0\n",
       "bill_depth_mm         2\n",
       "flipper_length_mm     0\n",
       "body_mass_g           2\n",
       "sex                  11\n",
       "year                  0\n",
       "dtype: int64"
      ]
     },
     "execution_count": 28,
     "metadata": {
     },
     "output_type": "execute_result"
    }
   ],
   "source": [
    "penguins.isnull().sum()"
   ]
  },
  {
   "cell_type": "code",
   "execution_count": 29,
   "id": "af3d7e05-46f2-45a8-8363-7413520766a7",
   "metadata": {
    "collapsed": false
   },
   "outputs": [
   ],
   "source": [
    "penguins['body_mass_g'] = penguins['body_mass_g'].fillna(penguins['body_mass_g'].mean())"
   ]
  },
  {
   "cell_type": "code",
   "execution_count": 30,
   "id": "7f1836e7-7737-442b-b4d8-3e4d6d371544",
   "metadata": {
    "collapsed": false
   },
   "outputs": [
    {
     "data": {
      "text/plain": [
       "species               0\n",
       "island                0\n",
       "bill_length_mm        0\n",
       "bill_depth_mm         2\n",
       "flipper_length_mm     0\n",
       "body_mass_g           0\n",
       "sex                  11\n",
       "year                  0\n",
       "dtype: int64"
      ]
     },
     "execution_count": 30,
     "metadata": {
     },
     "output_type": "execute_result"
    }
   ],
   "source": [
    "penguins.isnull().sum()"
   ]
  },
  {
   "cell_type": "code",
   "execution_count": 31,
   "id": "bcc1fbf8-3e80-4e48-91e3-58a3d3f4fb20",
   "metadata": {
    "collapsed": false
   },
   "outputs": [
    {
     "data": {
      "text/plain": [
       "0    male\n",
       "Name: sex, dtype: object"
      ]
     },
     "execution_count": 31,
     "metadata": {
     },
     "output_type": "execute_result"
    }
   ],
   "source": [
    "penguins['sex'].mode()"
   ]
  },
  {
   "cell_type": "code",
   "execution_count": 32,
   "id": "67a6ede1-8cd2-4021-bf22-be0d3c88b6ab",
   "metadata": {
    "collapsed": false
   },
   "outputs": [
   ],
   "source": [
    "penguins['sex'] = penguins['sex'].fillna(penguins['sex'].mode()[0])"
   ]
  },
  {
   "cell_type": "code",
   "execution_count": 33,
   "id": "acd7cc3b-6acf-47aa-b2cc-e487dd7ec041",
   "metadata": {
    "collapsed": false
   },
   "outputs": [
    {
     "data": {
      "text/plain": [
       "species              0\n",
       "island               0\n",
       "bill_length_mm       0\n",
       "bill_depth_mm        2\n",
       "flipper_length_mm    0\n",
       "body_mass_g          0\n",
       "sex                  0\n",
       "year                 0\n",
       "dtype: int64"
      ]
     },
     "execution_count": 33,
     "metadata": {
     },
     "output_type": "execute_result"
    }
   ],
   "source": [
    "penguins.isnull().sum()"
   ]
  },
  {
   "cell_type": "markdown",
   "id": "2905172a-02b7-4c81-be44-9e20a8cd8056",
   "metadata": {
    "collapsed": false
   },
   "source": [
    "<h1>HOW TO CREATE A COLUMN</h1>"
   ]
  },
  {
   "cell_type": "code",
   "execution_count": 34,
   "id": "8092fba2-871c-4eaa-92e7-b0ce72cd29c8",
   "metadata": {
    "collapsed": false
   },
   "outputs": [
    {
     "name": "stdout",
     "output_type": "stream",
     "text": [
      "<class 'pandas.core.frame.DataFrame'>\n",
      "RangeIndex: 344 entries, 0 to 343\n",
      "Data columns (total 8 columns):\n",
      " #   Column             Non-Null Count  Dtype  \n",
      "---  ------             --------------  -----  \n",
      " 0   species            344 non-null    object \n",
      " 1   island             344 non-null    object \n",
      " 2   bill_length_mm     344 non-null    float64\n",
      " 3   bill_depth_mm      342 non-null    float64\n",
      " 4   flipper_length_mm  344 non-null    float64\n",
      " 5   body_mass_g        344 non-null    float64\n",
      " 6   sex                344 non-null    object \n",
      " 7   year               344 non-null    int64  \n",
      "dtypes: float64(4), int64(1), object(3)\n",
      "memory usage: 21.6+ KB\n"
     ]
    }
   ],
   "source": [
    "penguins.info()"
   ]
  },
  {
   "cell_type": "code",
   "execution_count": 35,
   "id": "f28e4cb6-3e5c-4b62-92c1-1c52b7812e49",
   "metadata": {
    "collapsed": false
   },
   "outputs": [
    {
     "data": {
      "text/plain": [
       "Index(['species', 'island', 'bill_length_mm', 'bill_depth_mm',\n",
       "       'flipper_length_mm', 'body_mass_g', 'sex', 'year'],\n",
       "      dtype='object')"
      ]
     },
     "execution_count": 35,
     "metadata": {
     },
     "output_type": "execute_result"
    }
   ],
   "source": [
    "penguins.columns"
   ]
  },
  {
   "cell_type": "code",
   "execution_count": 36,
   "id": "784210f7-27aa-4c07-90ae-3c002b5228b1",
   "metadata": {
    "collapsed": false
   },
   "outputs": [
   ],
   "source": [
    "penguins['mass_kg'] = np.round(penguins['body_mass_g'] / 1000, 2)"
   ]
  },
  {
   "cell_type": "code",
   "execution_count": 37,
   "id": "5f81c3a4-ebf8-4128-b265-9057c5b46868",
   "metadata": {
    "collapsed": false
   },
   "outputs": [
    {
     "data": {
      "text/html": "<div>\n<style scoped>\n    .dataframe tbody tr th:only-of-type {\n        vertical-align: middle;\n    }\n\n    .dataframe tbody tr th {\n        vertical-align: top;\n    }\n\n    .dataframe thead th {\n        text-align: right;\n    }\n</style>\n<table border=\"1\" class=\"dataframe\">\n  <thead>\n    <tr style=\"text-align: right;\">\n      <th></th>\n      <th>species</th>\n      <th>island</th>\n      <th>bill_length_mm</th>\n      <th>bill_depth_mm</th>\n      <th>flipper_length_mm</th>\n      <th>body_mass_g</th>\n      <th>sex</th>\n      <th>year</th>\n      <th>mass_kg</th>\n    </tr>\n  </thead>\n  <tbody>\n    <tr>\n      <th>0</th>\n      <td>Adelie</td>\n      <td>Torgersen</td>\n      <td>39.10000</td>\n      <td>18.7</td>\n      <td>181.000000</td>\n      <td>3750.000000</td>\n      <td>male</td>\n      <td>2007</td>\n      <td>3.75</td>\n    </tr>\n    <tr>\n      <th>1</th>\n      <td>Adelie</td>\n      <td>Torgersen</td>\n      <td>39.50000</td>\n      <td>17.4</td>\n      <td>186.000000</td>\n      <td>3800.000000</td>\n      <td>female</td>\n      <td>2007</td>\n      <td>3.80</td>\n    </tr>\n    <tr>\n      <th>2</th>\n      <td>Adelie</td>\n      <td>Torgersen</td>\n      <td>40.30000</td>\n      <td>18.0</td>\n      <td>195.000000</td>\n      <td>3250.000000</td>\n      <td>female</td>\n      <td>2007</td>\n      <td>3.25</td>\n    </tr>\n    <tr>\n      <th>3</th>\n      <td>Adelie</td>\n      <td>Torgersen</td>\n      <td>43.92193</td>\n      <td>NaN</td>\n      <td>200.915205</td>\n      <td>4201.754386</td>\n      <td>male</td>\n      <td>2007</td>\n      <td>4.20</td>\n    </tr>\n    <tr>\n      <th>4</th>\n      <td>Adelie</td>\n      <td>Torgersen</td>\n      <td>36.70000</td>\n      <td>19.3</td>\n      <td>193.000000</td>\n      <td>3450.000000</td>\n      <td>female</td>\n      <td>2007</td>\n      <td>3.45</td>\n    </tr>\n    <tr>\n      <th>...</th>\n      <td>...</td>\n      <td>...</td>\n      <td>...</td>\n      <td>...</td>\n      <td>...</td>\n      <td>...</td>\n      <td>...</td>\n      <td>...</td>\n      <td>...</td>\n    </tr>\n    <tr>\n      <th>339</th>\n      <td>Chinstrap</td>\n      <td>Dream</td>\n      <td>55.80000</td>\n      <td>19.8</td>\n      <td>207.000000</td>\n      <td>4000.000000</td>\n      <td>male</td>\n      <td>2009</td>\n      <td>4.00</td>\n    </tr>\n    <tr>\n      <th>340</th>\n      <td>Chinstrap</td>\n      <td>Dream</td>\n      <td>43.50000</td>\n      <td>18.1</td>\n      <td>202.000000</td>\n      <td>3400.000000</td>\n      <td>female</td>\n      <td>2009</td>\n      <td>3.40</td>\n    </tr>\n    <tr>\n      <th>341</th>\n      <td>Chinstrap</td>\n      <td>Dream</td>\n      <td>49.60000</td>\n      <td>18.2</td>\n      <td>193.000000</td>\n      <td>3775.000000</td>\n      <td>male</td>\n      <td>2009</td>\n      <td>3.78</td>\n    </tr>\n    <tr>\n      <th>342</th>\n      <td>Chinstrap</td>\n      <td>Dream</td>\n      <td>50.80000</td>\n      <td>19.0</td>\n      <td>210.000000</td>\n      <td>4100.000000</td>\n      <td>male</td>\n      <td>2009</td>\n      <td>4.10</td>\n    </tr>\n    <tr>\n      <th>343</th>\n      <td>Chinstrap</td>\n      <td>Dream</td>\n      <td>50.20000</td>\n      <td>18.7</td>\n      <td>198.000000</td>\n      <td>3775.000000</td>\n      <td>female</td>\n      <td>2009</td>\n      <td>3.78</td>\n    </tr>\n  </tbody>\n</table>\n<p>344 rows × 9 columns</p>\n</div>",
      "text/plain": [
       "       species     island  bill_length_mm  bill_depth_mm  flipper_length_mm  \\\n",
       "0       Adelie  Torgersen        39.10000           18.7         181.000000   \n",
       "1       Adelie  Torgersen        39.50000           17.4         186.000000   \n",
       "2       Adelie  Torgersen        40.30000           18.0         195.000000   \n",
       "3       Adelie  Torgersen        43.92193            NaN         200.915205   \n",
       "4       Adelie  Torgersen        36.70000           19.3         193.000000   \n",
       "..         ...        ...             ...            ...                ...   \n",
       "339  Chinstrap      Dream        55.80000           19.8         207.000000   \n",
       "340  Chinstrap      Dream        43.50000           18.1         202.000000   \n",
       "341  Chinstrap      Dream        49.60000           18.2         193.000000   \n",
       "342  Chinstrap      Dream        50.80000           19.0         210.000000   \n",
       "343  Chinstrap      Dream        50.20000           18.7         198.000000   \n",
       "\n",
       "     body_mass_g     sex  year  mass_kg  \n",
       "0    3750.000000    male  2007     3.75  \n",
       "1    3800.000000  female  2007     3.80  \n",
       "2    3250.000000  female  2007     3.25  \n",
       "3    4201.754386    male  2007     4.20  \n",
       "4    3450.000000  female  2007     3.45  \n",
       "..           ...     ...   ...      ...  \n",
       "339  4000.000000    male  2009     4.00  \n",
       "340  3400.000000  female  2009     3.40  \n",
       "341  3775.000000    male  2009     3.78  \n",
       "342  4100.000000    male  2009     4.10  \n",
       "343  3775.000000  female  2009     3.78  \n",
       "\n",
       "[344 rows x 9 columns]"
      ]
     },
     "execution_count": 37,
     "metadata": {
     },
     "output_type": "execute_result"
    }
   ],
   "source": [
    "penguins"
   ]
  },
  {
   "cell_type": "markdown",
   "id": "64ba9470-0a87-487c-a3da-d279c3d10507",
   "metadata": {
    "collapsed": false
   },
   "source": [
    "<h1>EXPLORATORY DATA ANALYTICS (EDA)</h1>"
   ]
  },
  {
   "cell_type": "markdown",
   "id": "9cebd1d2-020c-4d28-a88c-41aafbe12e3b",
   "metadata": {
    "collapsed": false
   },
   "source": [
    "<h3>1. Which species lives the most in the dream island?</h3>"
   ]
  },
  {
   "cell_type": "code",
   "execution_count": 38,
   "id": "3a83b58e-1275-4487-92d8-4f44d91ab387",
   "metadata": {
    "collapsed": false
   },
   "outputs": [
    {
     "data": {
      "text/plain": [
       "species\n",
       "Adelie       152\n",
       "Gentoo       124\n",
       "Chinstrap     68\n",
       "Name: count, dtype: int64"
      ]
     },
     "execution_count": 38,
     "metadata": {
     },
     "output_type": "execute_result"
    }
   ],
   "source": [
    "penguins['species'].value_counts()"
   ]
  },
  {
   "cell_type": "code",
   "execution_count": 39,
   "id": "e8c1b54c-a2f2-4d7d-9635-b5fb6e53a45a",
   "metadata": {
    "collapsed": false
   },
   "outputs": [
   ],
   "source": [
    "dream = penguins[penguins['island'] == \"Dream\"]"
   ]
  },
  {
   "cell_type": "code",
   "execution_count": 40,
   "id": "62b5af94-07aa-4281-acf2-224b1e890cef",
   "metadata": {
    "collapsed": false
   },
   "outputs": [
    {
     "data": {
      "text/html": "<div>\n<style scoped>\n    .dataframe tbody tr th:only-of-type {\n        vertical-align: middle;\n    }\n\n    .dataframe tbody tr th {\n        vertical-align: top;\n    }\n\n    .dataframe thead th {\n        text-align: right;\n    }\n</style>\n<table border=\"1\" class=\"dataframe\">\n  <thead>\n    <tr style=\"text-align: right;\">\n      <th></th>\n      <th>species</th>\n      <th>island</th>\n      <th>bill_length_mm</th>\n      <th>bill_depth_mm</th>\n      <th>flipper_length_mm</th>\n      <th>body_mass_g</th>\n      <th>sex</th>\n      <th>year</th>\n      <th>mass_kg</th>\n    </tr>\n  </thead>\n  <tbody>\n    <tr>\n      <th>30</th>\n      <td>Adelie</td>\n      <td>Dream</td>\n      <td>39.5</td>\n      <td>16.7</td>\n      <td>178.0</td>\n      <td>3250.0</td>\n      <td>female</td>\n      <td>2007</td>\n      <td>3.25</td>\n    </tr>\n    <tr>\n      <th>31</th>\n      <td>Adelie</td>\n      <td>Dream</td>\n      <td>37.2</td>\n      <td>18.1</td>\n      <td>178.0</td>\n      <td>3900.0</td>\n      <td>male</td>\n      <td>2007</td>\n      <td>3.90</td>\n    </tr>\n    <tr>\n      <th>32</th>\n      <td>Adelie</td>\n      <td>Dream</td>\n      <td>39.5</td>\n      <td>17.8</td>\n      <td>188.0</td>\n      <td>3300.0</td>\n      <td>female</td>\n      <td>2007</td>\n      <td>3.30</td>\n    </tr>\n    <tr>\n      <th>33</th>\n      <td>Adelie</td>\n      <td>Dream</td>\n      <td>40.9</td>\n      <td>18.9</td>\n      <td>184.0</td>\n      <td>3900.0</td>\n      <td>male</td>\n      <td>2007</td>\n      <td>3.90</td>\n    </tr>\n    <tr>\n      <th>34</th>\n      <td>Adelie</td>\n      <td>Dream</td>\n      <td>36.4</td>\n      <td>17.0</td>\n      <td>195.0</td>\n      <td>3325.0</td>\n      <td>female</td>\n      <td>2007</td>\n      <td>3.32</td>\n    </tr>\n    <tr>\n      <th>...</th>\n      <td>...</td>\n      <td>...</td>\n      <td>...</td>\n      <td>...</td>\n      <td>...</td>\n      <td>...</td>\n      <td>...</td>\n      <td>...</td>\n      <td>...</td>\n    </tr>\n    <tr>\n      <th>339</th>\n      <td>Chinstrap</td>\n      <td>Dream</td>\n      <td>55.8</td>\n      <td>19.8</td>\n      <td>207.0</td>\n      <td>4000.0</td>\n      <td>male</td>\n      <td>2009</td>\n      <td>4.00</td>\n    </tr>\n    <tr>\n      <th>340</th>\n      <td>Chinstrap</td>\n      <td>Dream</td>\n      <td>43.5</td>\n      <td>18.1</td>\n      <td>202.0</td>\n      <td>3400.0</td>\n      <td>female</td>\n      <td>2009</td>\n      <td>3.40</td>\n    </tr>\n    <tr>\n      <th>341</th>\n      <td>Chinstrap</td>\n      <td>Dream</td>\n      <td>49.6</td>\n      <td>18.2</td>\n      <td>193.0</td>\n      <td>3775.0</td>\n      <td>male</td>\n      <td>2009</td>\n      <td>3.78</td>\n    </tr>\n    <tr>\n      <th>342</th>\n      <td>Chinstrap</td>\n      <td>Dream</td>\n      <td>50.8</td>\n      <td>19.0</td>\n      <td>210.0</td>\n      <td>4100.0</td>\n      <td>male</td>\n      <td>2009</td>\n      <td>4.10</td>\n    </tr>\n    <tr>\n      <th>343</th>\n      <td>Chinstrap</td>\n      <td>Dream</td>\n      <td>50.2</td>\n      <td>18.7</td>\n      <td>198.0</td>\n      <td>3775.0</td>\n      <td>female</td>\n      <td>2009</td>\n      <td>3.78</td>\n    </tr>\n  </tbody>\n</table>\n<p>124 rows × 9 columns</p>\n</div>",
      "text/plain": [
       "       species island  bill_length_mm  bill_depth_mm  flipper_length_mm  \\\n",
       "30      Adelie  Dream            39.5           16.7              178.0   \n",
       "31      Adelie  Dream            37.2           18.1              178.0   \n",
       "32      Adelie  Dream            39.5           17.8              188.0   \n",
       "33      Adelie  Dream            40.9           18.9              184.0   \n",
       "34      Adelie  Dream            36.4           17.0              195.0   \n",
       "..         ...    ...             ...            ...                ...   \n",
       "339  Chinstrap  Dream            55.8           19.8              207.0   \n",
       "340  Chinstrap  Dream            43.5           18.1              202.0   \n",
       "341  Chinstrap  Dream            49.6           18.2              193.0   \n",
       "342  Chinstrap  Dream            50.8           19.0              210.0   \n",
       "343  Chinstrap  Dream            50.2           18.7              198.0   \n",
       "\n",
       "     body_mass_g     sex  year  mass_kg  \n",
       "30        3250.0  female  2007     3.25  \n",
       "31        3900.0    male  2007     3.90  \n",
       "32        3300.0  female  2007     3.30  \n",
       "33        3900.0    male  2007     3.90  \n",
       "34        3325.0  female  2007     3.32  \n",
       "..           ...     ...   ...      ...  \n",
       "339       4000.0    male  2009     4.00  \n",
       "340       3400.0  female  2009     3.40  \n",
       "341       3775.0    male  2009     3.78  \n",
       "342       4100.0    male  2009     4.10  \n",
       "343       3775.0  female  2009     3.78  \n",
       "\n",
       "[124 rows x 9 columns]"
      ]
     },
     "execution_count": 40,
     "metadata": {
     },
     "output_type": "execute_result"
    }
   ],
   "source": [
    "dream"
   ]
  },
  {
   "cell_type": "code",
   "execution_count": 41,
   "id": "2ccdf1b4-7660-44e9-bae1-7d0fb5b70c03",
   "metadata": {
    "collapsed": false
   },
   "outputs": [
    {
     "data": {
      "text/plain": [
       "species\n",
       "Chinstrap    68\n",
       "Adelie       56\n",
       "Name: count, dtype: int64"
      ]
     },
     "execution_count": 41,
     "metadata": {
     },
     "output_type": "execute_result"
    }
   ],
   "source": [
    "dream['species'].value_counts()"
   ]
  },
  {
   "cell_type": "markdown",
   "id": "fa353a65-5031-4369-819d-d9c248f1bf46",
   "metadata": {
    "collapsed": false
   },
   "source": [
    "<h3>Insight #1 </h3>\n",
    "<h4>The species that lives the most in the dream island is the Chinstrap species with the number of 68, compared to the Adelie species which only has 56. We can also see that there are no Gentoo species living in the dream island</h4>"
   ]
  },
  {
   "cell_type": "markdown",
   "id": "7b533647-c590-4d4e-82af-7f0b02584f3d",
   "metadata": {
    "collapsed": false
   },
   "source": [
    "<h3>2. In the year 2008, how many species are there? </h3>"
   ]
  },
  {
   "cell_type": "code",
   "execution_count": 42,
   "id": "160bbdfb-18c4-48d7-9194-31a48571be39",
   "metadata": {
    "collapsed": false
   },
   "outputs": [
    {
     "data": {
      "text/html": "<div>\n<style scoped>\n    .dataframe tbody tr th:only-of-type {\n        vertical-align: middle;\n    }\n\n    .dataframe tbody tr th {\n        vertical-align: top;\n    }\n\n    .dataframe thead th {\n        text-align: right;\n    }\n</style>\n<table border=\"1\" class=\"dataframe\">\n  <thead>\n    <tr style=\"text-align: right;\">\n      <th></th>\n      <th>species</th>\n      <th>island</th>\n      <th>bill_length_mm</th>\n      <th>bill_depth_mm</th>\n      <th>flipper_length_mm</th>\n      <th>body_mass_g</th>\n      <th>sex</th>\n      <th>year</th>\n      <th>mass_kg</th>\n    </tr>\n  </thead>\n  <tbody>\n    <tr>\n      <th>0</th>\n      <td>Adelie</td>\n      <td>Torgersen</td>\n      <td>39.10000</td>\n      <td>18.7</td>\n      <td>181.000000</td>\n      <td>3750.000000</td>\n      <td>male</td>\n      <td>2007</td>\n      <td>3.75</td>\n    </tr>\n    <tr>\n      <th>1</th>\n      <td>Adelie</td>\n      <td>Torgersen</td>\n      <td>39.50000</td>\n      <td>17.4</td>\n      <td>186.000000</td>\n      <td>3800.000000</td>\n      <td>female</td>\n      <td>2007</td>\n      <td>3.80</td>\n    </tr>\n    <tr>\n      <th>2</th>\n      <td>Adelie</td>\n      <td>Torgersen</td>\n      <td>40.30000</td>\n      <td>18.0</td>\n      <td>195.000000</td>\n      <td>3250.000000</td>\n      <td>female</td>\n      <td>2007</td>\n      <td>3.25</td>\n    </tr>\n    <tr>\n      <th>3</th>\n      <td>Adelie</td>\n      <td>Torgersen</td>\n      <td>43.92193</td>\n      <td>NaN</td>\n      <td>200.915205</td>\n      <td>4201.754386</td>\n      <td>male</td>\n      <td>2007</td>\n      <td>4.20</td>\n    </tr>\n    <tr>\n      <th>4</th>\n      <td>Adelie</td>\n      <td>Torgersen</td>\n      <td>36.70000</td>\n      <td>19.3</td>\n      <td>193.000000</td>\n      <td>3450.000000</td>\n      <td>female</td>\n      <td>2007</td>\n      <td>3.45</td>\n    </tr>\n    <tr>\n      <th>...</th>\n      <td>...</td>\n      <td>...</td>\n      <td>...</td>\n      <td>...</td>\n      <td>...</td>\n      <td>...</td>\n      <td>...</td>\n      <td>...</td>\n      <td>...</td>\n    </tr>\n    <tr>\n      <th>339</th>\n      <td>Chinstrap</td>\n      <td>Dream</td>\n      <td>55.80000</td>\n      <td>19.8</td>\n      <td>207.000000</td>\n      <td>4000.000000</td>\n      <td>male</td>\n      <td>2009</td>\n      <td>4.00</td>\n    </tr>\n    <tr>\n      <th>340</th>\n      <td>Chinstrap</td>\n      <td>Dream</td>\n      <td>43.50000</td>\n      <td>18.1</td>\n      <td>202.000000</td>\n      <td>3400.000000</td>\n      <td>female</td>\n      <td>2009</td>\n      <td>3.40</td>\n    </tr>\n    <tr>\n      <th>341</th>\n      <td>Chinstrap</td>\n      <td>Dream</td>\n      <td>49.60000</td>\n      <td>18.2</td>\n      <td>193.000000</td>\n      <td>3775.000000</td>\n      <td>male</td>\n      <td>2009</td>\n      <td>3.78</td>\n    </tr>\n    <tr>\n      <th>342</th>\n      <td>Chinstrap</td>\n      <td>Dream</td>\n      <td>50.80000</td>\n      <td>19.0</td>\n      <td>210.000000</td>\n      <td>4100.000000</td>\n      <td>male</td>\n      <td>2009</td>\n      <td>4.10</td>\n    </tr>\n    <tr>\n      <th>343</th>\n      <td>Chinstrap</td>\n      <td>Dream</td>\n      <td>50.20000</td>\n      <td>18.7</td>\n      <td>198.000000</td>\n      <td>3775.000000</td>\n      <td>female</td>\n      <td>2009</td>\n      <td>3.78</td>\n    </tr>\n  </tbody>\n</table>\n<p>344 rows × 9 columns</p>\n</div>",
      "text/plain": [
       "       species     island  bill_length_mm  bill_depth_mm  flipper_length_mm  \\\n",
       "0       Adelie  Torgersen        39.10000           18.7         181.000000   \n",
       "1       Adelie  Torgersen        39.50000           17.4         186.000000   \n",
       "2       Adelie  Torgersen        40.30000           18.0         195.000000   \n",
       "3       Adelie  Torgersen        43.92193            NaN         200.915205   \n",
       "4       Adelie  Torgersen        36.70000           19.3         193.000000   \n",
       "..         ...        ...             ...            ...                ...   \n",
       "339  Chinstrap      Dream        55.80000           19.8         207.000000   \n",
       "340  Chinstrap      Dream        43.50000           18.1         202.000000   \n",
       "341  Chinstrap      Dream        49.60000           18.2         193.000000   \n",
       "342  Chinstrap      Dream        50.80000           19.0         210.000000   \n",
       "343  Chinstrap      Dream        50.20000           18.7         198.000000   \n",
       "\n",
       "     body_mass_g     sex  year  mass_kg  \n",
       "0    3750.000000    male  2007     3.75  \n",
       "1    3800.000000  female  2007     3.80  \n",
       "2    3250.000000  female  2007     3.25  \n",
       "3    4201.754386    male  2007     4.20  \n",
       "4    3450.000000  female  2007     3.45  \n",
       "..           ...     ...   ...      ...  \n",
       "339  4000.000000    male  2009     4.00  \n",
       "340  3400.000000  female  2009     3.40  \n",
       "341  3775.000000    male  2009     3.78  \n",
       "342  4100.000000    male  2009     4.10  \n",
       "343  3775.000000  female  2009     3.78  \n",
       "\n",
       "[344 rows x 9 columns]"
      ]
     },
     "execution_count": 42,
     "metadata": {
     },
     "output_type": "execute_result"
    }
   ],
   "source": [
    "penguins"
   ]
  },
  {
   "cell_type": "code",
   "execution_count": 43,
   "id": "21a2e084-f0a8-46f9-b29b-5071c1b5275f",
   "metadata": {
    "collapsed": false
   },
   "outputs": [
   ],
   "source": [
    "eight = penguins[penguins['year'] == 2008]"
   ]
  },
  {
   "cell_type": "code",
   "execution_count": 44,
   "id": "48cd3d13-bbfe-4ac7-9119-7093f0248c3a",
   "metadata": {
    "collapsed": false
   },
   "outputs": [
    {
     "data": {
      "text/html": "<div>\n<style scoped>\n    .dataframe tbody tr th:only-of-type {\n        vertical-align: middle;\n    }\n\n    .dataframe tbody tr th {\n        vertical-align: top;\n    }\n\n    .dataframe thead th {\n        text-align: right;\n    }\n</style>\n<table border=\"1\" class=\"dataframe\">\n  <thead>\n    <tr style=\"text-align: right;\">\n      <th></th>\n      <th>species</th>\n      <th>island</th>\n      <th>bill_length_mm</th>\n      <th>bill_depth_mm</th>\n      <th>flipper_length_mm</th>\n      <th>body_mass_g</th>\n      <th>sex</th>\n      <th>year</th>\n      <th>mass_kg</th>\n    </tr>\n  </thead>\n  <tbody>\n    <tr>\n      <th>50</th>\n      <td>Adelie</td>\n      <td>Biscoe</td>\n      <td>39.6</td>\n      <td>17.7</td>\n      <td>186.0</td>\n      <td>3500.0</td>\n      <td>female</td>\n      <td>2008</td>\n      <td>3.50</td>\n    </tr>\n    <tr>\n      <th>51</th>\n      <td>Adelie</td>\n      <td>Biscoe</td>\n      <td>40.1</td>\n      <td>18.9</td>\n      <td>188.0</td>\n      <td>4300.0</td>\n      <td>male</td>\n      <td>2008</td>\n      <td>4.30</td>\n    </tr>\n    <tr>\n      <th>52</th>\n      <td>Adelie</td>\n      <td>Biscoe</td>\n      <td>35.0</td>\n      <td>17.9</td>\n      <td>190.0</td>\n      <td>3450.0</td>\n      <td>female</td>\n      <td>2008</td>\n      <td>3.45</td>\n    </tr>\n    <tr>\n      <th>53</th>\n      <td>Adelie</td>\n      <td>Biscoe</td>\n      <td>42.0</td>\n      <td>19.5</td>\n      <td>200.0</td>\n      <td>4050.0</td>\n      <td>male</td>\n      <td>2008</td>\n      <td>4.05</td>\n    </tr>\n    <tr>\n      <th>54</th>\n      <td>Adelie</td>\n      <td>Biscoe</td>\n      <td>34.5</td>\n      <td>18.1</td>\n      <td>187.0</td>\n      <td>2900.0</td>\n      <td>female</td>\n      <td>2008</td>\n      <td>2.90</td>\n    </tr>\n    <tr>\n      <th>...</th>\n      <td>...</td>\n      <td>...</td>\n      <td>...</td>\n      <td>...</td>\n      <td>...</td>\n      <td>...</td>\n      <td>...</td>\n      <td>...</td>\n      <td>...</td>\n    </tr>\n    <tr>\n      <th>315</th>\n      <td>Chinstrap</td>\n      <td>Dream</td>\n      <td>53.5</td>\n      <td>19.9</td>\n      <td>205.0</td>\n      <td>4500.0</td>\n      <td>male</td>\n      <td>2008</td>\n      <td>4.50</td>\n    </tr>\n    <tr>\n      <th>316</th>\n      <td>Chinstrap</td>\n      <td>Dream</td>\n      <td>49.0</td>\n      <td>19.5</td>\n      <td>210.0</td>\n      <td>3950.0</td>\n      <td>male</td>\n      <td>2008</td>\n      <td>3.95</td>\n    </tr>\n    <tr>\n      <th>317</th>\n      <td>Chinstrap</td>\n      <td>Dream</td>\n      <td>46.2</td>\n      <td>17.5</td>\n      <td>187.0</td>\n      <td>3650.0</td>\n      <td>female</td>\n      <td>2008</td>\n      <td>3.65</td>\n    </tr>\n    <tr>\n      <th>318</th>\n      <td>Chinstrap</td>\n      <td>Dream</td>\n      <td>50.9</td>\n      <td>19.1</td>\n      <td>196.0</td>\n      <td>3550.0</td>\n      <td>male</td>\n      <td>2008</td>\n      <td>3.55</td>\n    </tr>\n    <tr>\n      <th>319</th>\n      <td>Chinstrap</td>\n      <td>Dream</td>\n      <td>45.5</td>\n      <td>17.0</td>\n      <td>196.0</td>\n      <td>3500.0</td>\n      <td>female</td>\n      <td>2008</td>\n      <td>3.50</td>\n    </tr>\n  </tbody>\n</table>\n<p>114 rows × 9 columns</p>\n</div>",
      "text/plain": [
       "       species  island  bill_length_mm  bill_depth_mm  flipper_length_mm  \\\n",
       "50      Adelie  Biscoe            39.6           17.7              186.0   \n",
       "51      Adelie  Biscoe            40.1           18.9              188.0   \n",
       "52      Adelie  Biscoe            35.0           17.9              190.0   \n",
       "53      Adelie  Biscoe            42.0           19.5              200.0   \n",
       "54      Adelie  Biscoe            34.5           18.1              187.0   \n",
       "..         ...     ...             ...            ...                ...   \n",
       "315  Chinstrap   Dream            53.5           19.9              205.0   \n",
       "316  Chinstrap   Dream            49.0           19.5              210.0   \n",
       "317  Chinstrap   Dream            46.2           17.5              187.0   \n",
       "318  Chinstrap   Dream            50.9           19.1              196.0   \n",
       "319  Chinstrap   Dream            45.5           17.0              196.0   \n",
       "\n",
       "     body_mass_g     sex  year  mass_kg  \n",
       "50        3500.0  female  2008     3.50  \n",
       "51        4300.0    male  2008     4.30  \n",
       "52        3450.0  female  2008     3.45  \n",
       "53        4050.0    male  2008     4.05  \n",
       "54        2900.0  female  2008     2.90  \n",
       "..           ...     ...   ...      ...  \n",
       "315       4500.0    male  2008     4.50  \n",
       "316       3950.0    male  2008     3.95  \n",
       "317       3650.0  female  2008     3.65  \n",
       "318       3550.0    male  2008     3.55  \n",
       "319       3500.0  female  2008     3.50  \n",
       "\n",
       "[114 rows x 9 columns]"
      ]
     },
     "execution_count": 44,
     "metadata": {
     },
     "output_type": "execute_result"
    }
   ],
   "source": [
    "eight"
   ]
  },
  {
   "cell_type": "code",
   "execution_count": 45,
   "id": "6e95d96b-f797-43d8-b5c5-9f6b96e35a46",
   "metadata": {
    "collapsed": false
   },
   "outputs": [
    {
     "data": {
      "text/plain": [
       "species\n",
       "Adelie       50\n",
       "Gentoo       46\n",
       "Chinstrap    18\n",
       "Name: count, dtype: int64"
      ]
     },
     "execution_count": 45,
     "metadata": {
     },
     "output_type": "execute_result"
    }
   ],
   "source": [
    "eight['species'].value_counts()"
   ]
  },
  {
   "cell_type": "markdown",
   "id": "405dbc68-6c8c-4595-9dc1-7d821933ac31",
   "metadata": {
    "collapsed": false
   },
   "source": [
    "<h3>Insight #2</h3>\n",
    "<h4>As we can see there are a total of 114 species in the year 2008. Specifically, Adelie with a no. of 50, Gentoo with the no. od 46 and lastly Chinstrap with a no. 18, with the total no. 114</h4>"
   ]
  },
  {
   "cell_type": "markdown",
   "id": "8cfb0adc-2a87-45d9-b3f3-be610e336e64",
   "metadata": {
    "collapsed": false
   },
   "source": [
    "<h3>3. What is the most common bill length in mm?</h3>"
   ]
  },
  {
   "cell_type": "code",
   "execution_count": 46,
   "id": "77b0575b-c07a-4f44-b1ab-fb050943f12a",
   "metadata": {
    "collapsed": false
   },
   "outputs": [
    {
     "data": {
      "text/plain": [
       "0    41.1\n",
       "Name: bill_length_mm, dtype: float64"
      ]
     },
     "execution_count": 46,
     "metadata": {
     },
     "output_type": "execute_result"
    }
   ],
   "source": [
    "penguins['bill_length_mm'].mode()"
   ]
  },
  {
   "cell_type": "markdown",
   "id": "c6ff9ae5-c89b-44b2-8ef6-82e6fae8cfbf",
   "metadata": {
    "collapsed": false
   },
   "source": [
    "<h3>Insight #3</h3>\n",
    "<h4>The most common bill length in millimeters is 41.1</h4>"
   ]
  },
  {
   "cell_type": "markdown",
   "id": "4aa8510d-a334-4788-910d-e6c57abf4273",
   "metadata": {
    "collapsed": false
   },
   "source": [
    "<h3>4. What is the average body mass of penguin on Biscoe Island?</h3>"
   ]
  },
  {
   "cell_type": "code",
   "execution_count": 47,
   "id": "f8b439c8-a92d-46b7-ab0f-055f0a95cc94",
   "metadata": {
    "collapsed": false
   },
   "outputs": [
   ],
   "source": [
    "biscoe = penguins[penguins['island'] == \"Biscoe\"]"
   ]
  },
  {
   "cell_type": "code",
   "execution_count": 48,
   "id": "b8fdce65-1f84-4080-af34-1bb42d553076",
   "metadata": {
    "collapsed": false
   },
   "outputs": [
    {
     "data": {
      "text/plain": [
       "np.float64(4712.95687134503)"
      ]
     },
     "execution_count": 48,
     "metadata": {
     },
     "output_type": "execute_result"
    }
   ],
   "source": [
    "biscoe['body_mass_g'].mean()"
   ]
  },
  {
   "cell_type": "markdown",
   "id": "726e151a-3256-4ead-abff-e535a1604bed",
   "metadata": {
    "collapsed": false
   },
   "source": [
    "<h3>Insight #4</h3>\n",
    "<h4>The average body mass of penguins living in Biscoe Island is 4712.96</h4>"
   ]
  },
  {
   "cell_type": "markdown",
   "id": "d5a45b89-de8a-4b94-abdd-f421549c7271",
   "metadata": {
    "collapsed": false
   },
   "source": [
    "<h3>5. How many penguins are male and how many are female</h3>"
   ]
  },
  {
   "cell_type": "code",
   "execution_count": 49,
   "id": "b80dddb6-3e34-48ae-ab0f-d9ae99dab0e6",
   "metadata": {
    "collapsed": false
   },
   "outputs": [
    {
     "data": {
      "text/plain": [
       "sex\n",
       "male      179\n",
       "female    165\n",
       "Name: count, dtype: int64"
      ]
     },
     "execution_count": 49,
     "metadata": {
     },
     "output_type": "execute_result"
    }
   ],
   "source": [
    "penguins['sex'].value_counts()"
   ]
  },
  {
   "cell_type": "markdown",
   "id": "9bef1c8a-1e9b-4443-bfde-c3d8f407cfa8",
   "metadata": {
    "collapsed": false
   },
   "source": [
    "<h3>Insight #5</h3>\n",
    "<h4>The no. of male are 179 and female are 165. We can see that there are more male than female</h4>"
   ]
  },
  {
   "cell_type": "markdown",
   "id": "9b391010-7cc6-47a9-aa88-f7866cc55b63",
   "metadata": {
    "collapsed": false
   },
   "source": [
    "<h3>6. How many species belong to each species?</h3>"
   ]
  },
  {
   "cell_type": "code",
   "execution_count": 50,
   "id": "49436b74-b0ba-4fbe-888e-e9205fb6b995",
   "metadata": {
    "collapsed": false
   },
   "outputs": [
    {
     "data": {
      "text/plain": [
       "species\n",
       "Adelie       152\n",
       "Gentoo       124\n",
       "Chinstrap     68\n",
       "Name: count, dtype: int64"
      ]
     },
     "execution_count": 50,
     "metadata": {
     },
     "output_type": "execute_result"
    }
   ],
   "source": [
    "penguins['species'].value_counts()"
   ]
  },
  {
   "cell_type": "markdown",
   "id": "ad1435a9-b049-4f8d-aaea-67a6b2f73a06",
   "metadata": {
    "collapsed": false
   },
   "source": [
    "<h3>Insight #6</h3>\n",
    "<h4>There are 152 Adelie, 124 Gentoo and 68 Chinstrap. A total no. of 344 species. There are more Adelie species compared to the other 2 species.</h4>"
   ]
  },
  {
   "cell_type": "markdown",
   "id": "f7e5234b-7861-4892-94ba-be90bbbf65ca",
   "metadata": {
    "collapsed": false
   },
   "source": [
    "<h3>7. List all the unique island name where penguins were obsrved and which island hosts the most penguins?</h3>"
   ]
  },
  {
   "cell_type": "code",
   "execution_count": 51,
   "id": "a364b132-e30d-4bb3-99d0-03cce0ddae7d",
   "metadata": {
    "collapsed": false
   },
   "outputs": [
    {
     "data": {
      "text/plain": [
       "array(['Torgersen', 'Biscoe', 'Dream'], dtype=object)"
      ]
     },
     "execution_count": 51,
     "metadata": {
     },
     "output_type": "execute_result"
    }
   ],
   "source": [
    "penguins['island'].unique()"
   ]
  },
  {
   "cell_type": "code",
   "execution_count": 52,
   "id": "9e2dd36f-8445-432d-9874-9b1342eadf6d",
   "metadata": {
    "collapsed": false
   },
   "outputs": [
    {
     "data": {
      "text/plain": [
       "island\n",
       "Biscoe       168\n",
       "Dream        124\n",
       "Torgersen     52\n",
       "Name: count, dtype: int64"
      ]
     },
     "execution_count": 52,
     "metadata": {
     },
     "output_type": "execute_result"
    }
   ],
   "source": [
    "penguins['island'].value_counts()"
   ]
  },
  {
   "cell_type": "markdown",
   "id": "23c05d43-5e81-4fe9-a47f-cffc2d491c2e",
   "metadata": {
    "collapsed": false
   },
   "source": [
    "<h3>Insight #7</h3>\n",
    "<h4>There are a 3 island namely Torgersen, Biscoe and Dream. The Biscoe island host the most penguin with a total no. of 168</h4>"
   ]
  },
  {
   "cell_type": "markdown",
   "id": "1da662dd-a55b-458e-8cba-3d9cc860c8d1",
   "metadata": {
    "collapsed": false
   },
   "source": [
    "<h1>DATA AGGREGATION</h1>"
   ]
  },
  {
   "cell_type": "markdown",
   "id": "28a29450-93e6-4cdc-bd6b-00438b6f6b5f",
   "metadata": {
    "collapsed": false
   },
   "source": [
    "ilan species per island ang nakatira?"
   ]
  },
  {
   "cell_type": "code",
   "execution_count": 53,
   "id": "5c00c6ff-3cab-4c75-9ede-b336294c0abd",
   "metadata": {
    "collapsed": false
   },
   "outputs": [
   ],
   "source": [
    "PerIsland = penguins.groupby(['species', 'island']).count()"
   ]
  },
  {
   "cell_type": "code",
   "execution_count": 54,
   "id": "f511ac72-fa11-47ef-8e17-dc1e71d5690c",
   "metadata": {
    "collapsed": false
   },
   "outputs": [
    {
     "data": {
      "text/html": "<div>\n<style scoped>\n    .dataframe tbody tr th:only-of-type {\n        vertical-align: middle;\n    }\n\n    .dataframe tbody tr th {\n        vertical-align: top;\n    }\n\n    .dataframe thead th {\n        text-align: right;\n    }\n</style>\n<table border=\"1\" class=\"dataframe\">\n  <thead>\n    <tr style=\"text-align: right;\">\n      <th></th>\n      <th></th>\n      <th>bill_length_mm</th>\n      <th>bill_depth_mm</th>\n      <th>flipper_length_mm</th>\n      <th>body_mass_g</th>\n      <th>sex</th>\n      <th>year</th>\n      <th>mass_kg</th>\n    </tr>\n    <tr>\n      <th>species</th>\n      <th>island</th>\n      <th></th>\n      <th></th>\n      <th></th>\n      <th></th>\n      <th></th>\n      <th></th>\n      <th></th>\n    </tr>\n  </thead>\n  <tbody>\n    <tr>\n      <th rowspan=\"3\" valign=\"top\">Adelie</th>\n      <th>Biscoe</th>\n      <td>44</td>\n      <td>44</td>\n      <td>44</td>\n      <td>44</td>\n      <td>44</td>\n      <td>44</td>\n      <td>44</td>\n    </tr>\n    <tr>\n      <th>Dream</th>\n      <td>56</td>\n      <td>56</td>\n      <td>56</td>\n      <td>56</td>\n      <td>56</td>\n      <td>56</td>\n      <td>56</td>\n    </tr>\n    <tr>\n      <th>Torgersen</th>\n      <td>52</td>\n      <td>51</td>\n      <td>52</td>\n      <td>52</td>\n      <td>52</td>\n      <td>52</td>\n      <td>52</td>\n    </tr>\n    <tr>\n      <th>Chinstrap</th>\n      <th>Dream</th>\n      <td>68</td>\n      <td>68</td>\n      <td>68</td>\n      <td>68</td>\n      <td>68</td>\n      <td>68</td>\n      <td>68</td>\n    </tr>\n    <tr>\n      <th>Gentoo</th>\n      <th>Biscoe</th>\n      <td>124</td>\n      <td>123</td>\n      <td>124</td>\n      <td>124</td>\n      <td>124</td>\n      <td>124</td>\n      <td>124</td>\n    </tr>\n  </tbody>\n</table>\n</div>",
      "text/plain": [
       "                     bill_length_mm  bill_depth_mm  flipper_length_mm  \\\n",
       "species   island                                                        \n",
       "Adelie    Biscoe                 44             44                 44   \n",
       "          Dream                  56             56                 56   \n",
       "          Torgersen              52             51                 52   \n",
       "Chinstrap Dream                  68             68                 68   \n",
       "Gentoo    Biscoe                124            123                124   \n",
       "\n",
       "                     body_mass_g  sex  year  mass_kg  \n",
       "species   island                                      \n",
       "Adelie    Biscoe              44   44    44       44  \n",
       "          Dream               56   56    56       56  \n",
       "          Torgersen           52   52    52       52  \n",
       "Chinstrap Dream               68   68    68       68  \n",
       "Gentoo    Biscoe             124  124   124      124  "
      ]
     },
     "execution_count": 54,
     "metadata": {
     },
     "output_type": "execute_result"
    }
   ],
   "source": [
    "PerIsland"
   ]
  },
  {
   "cell_type": "code",
   "execution_count": 55,
   "id": "c91114a9-0610-4452-8f92-1b8f58a7fde7",
   "metadata": {
    "collapsed": false
   },
   "outputs": [
   ],
   "source": [
    "avg_species_island = penguins.groupby(['species', 'island'])['body_mass_g'].mean()"
   ]
  },
  {
   "cell_type": "code",
   "execution_count": 56,
   "id": "af37ad1a-fa48-48c1-8260-28707740bd42",
   "metadata": {
    "collapsed": false
   },
   "outputs": [
    {
     "data": {
      "text/plain": [
       "species    island   \n",
       "Adelie     Biscoe       3709.659091\n",
       "           Dream        3688.392857\n",
       "           Torgersen    3715.899123\n",
       "Chinstrap  Dream        3733.088235\n",
       "Gentoo     Biscoe       5068.965761\n",
       "Name: body_mass_g, dtype: float64"
      ]
     },
     "execution_count": 56,
     "metadata": {
     },
     "output_type": "execute_result"
    }
   ],
   "source": [
    "avg_species_island"
   ]
  },
  {
   "cell_type": "markdown",
   "id": "08bb428e-2495-4c6a-9bac-2fdc9ed5cbc4",
   "metadata": {
    "collapsed": false
   },
   "source": [
    "<h1>Data Aggregation</h1>\n",
    "<h2> The use of .groupby()</h2>"
   ]
  },
  {
   "cell_type": "code",
   "execution_count": 57,
   "id": "a6583fcc-c30d-4109-9230-7691ba2781ba",
   "metadata": {
    "collapsed": false
   },
   "outputs": [
   ],
   "source": [
    "penguins_insight8 = penguins.groupby(['species', 'island', 'sex', 'year',]).size()"
   ]
  },
  {
   "cell_type": "code",
   "execution_count": 58,
   "id": "6ff02c85-9c3f-4e2b-a352-6071ba3a1cce",
   "metadata": {
    "collapsed": false
   },
   "outputs": [
    {
     "data": {
      "text/plain": [
       "species    island     sex     year\n",
       "Adelie     Biscoe     female  2007     5\n",
       "                              2008     9\n",
       "                              2009     8\n",
       "                      male    2007     5\n",
       "                              2008     9\n",
       "                              2009     8\n",
       "           Dream      female  2007     9\n",
       "                              2008     8\n",
       "                              2009    10\n",
       "                      male    2007    11\n",
       "                              2008     8\n",
       "                              2009    10\n",
       "           Torgersen  female  2007     8\n",
       "                              2008     8\n",
       "                              2009     8\n",
       "                      male    2007    12\n",
       "                              2008     8\n",
       "                              2009     8\n",
       "Chinstrap  Dream      female  2007    13\n",
       "                              2008     9\n",
       "                              2009    12\n",
       "                      male    2007    13\n",
       "                              2008     9\n",
       "                              2009    12\n",
       "Gentoo     Biscoe     female  2007    16\n",
       "                              2008    22\n",
       "                              2009    20\n",
       "                      male    2007    18\n",
       "                              2008    24\n",
       "                              2009    24\n",
       "dtype: int64"
      ]
     },
     "execution_count": 58,
     "metadata": {
     },
     "output_type": "execute_result"
    }
   ],
   "source": [
    "penguins_insight8"
   ]
  },
  {
   "cell_type": "markdown",
   "id": "32b539b4-a6d1-4ddf-bcc1-62f411c97842",
   "metadata": {
    "collapsed": false
   },
   "source": [
    "<h1>TESTING CORRELATION</h1> "
   ]
  },
  {
   "cell_type": "markdown",
   "id": "9fbd8b64-8c9e-4c79-b71f-f7240727684b",
   "metadata": {
    "collapsed": false
   },
   "source": [
    "<h3>Pearson R Correlation</h3>\n",
    "<hr>\n",
    "<p>Used for testing correlation between two <strong>NUMERICAL VALUES</strong></p>"
   ]
  },
  {
   "cell_type": "code",
   "execution_count": 59,
   "id": "de8e835b-f1f5-4035-bf5a-a392458f39ec",
   "metadata": {
    "collapsed": false
   },
   "outputs": [
   ],
   "source": [
    "weight_flipper_cor = penguins['body_mass_g'].corr(penguins['flipper_length_mm'])"
   ]
  },
  {
   "cell_type": "code",
   "execution_count": 60,
   "id": "3a68982d-910c-4b81-8f33-05214abb86b1",
   "metadata": {
    "collapsed": false
   },
   "outputs": [
    {
     "data": {
      "text/plain": [
       "np.float64(0.8712017673060115)"
      ]
     },
     "execution_count": 60,
     "metadata": {
     },
     "output_type": "execute_result"
    }
   ],
   "source": [
    "weight_flipper_cor"
   ]
  },
  {
   "cell_type": "markdown",
   "id": "0df0413e-13c8-4c73-831e-44b6c745e952",
   "metadata": {
    "collapsed": false
   },
   "source": [
    "<h3>8. What is the total body mass of species living in Torgersen</h3>\n",
    "\n"
   ]
  },
  {
   "cell_type": "code",
   "execution_count": 61,
   "id": "4c5a79",
   "metadata": {
    "collapsed": false
   },
   "outputs": [
   ],
   "source": [
    "is_dream = penguins[penguins['island'] == 'Dream']"
   ]
  },
  {
   "cell_type": "code",
   "execution_count": 62,
   "id": "7efde1",
   "metadata": {
    "collapsed": false
   },
   "outputs": [
    {
     "data": {
      "text/html": "<div>\n<style scoped>\n    .dataframe tbody tr th:only-of-type {\n        vertical-align: middle;\n    }\n\n    .dataframe tbody tr th {\n        vertical-align: top;\n    }\n\n    .dataframe thead th {\n        text-align: right;\n    }\n</style>\n<table border=\"1\" class=\"dataframe\">\n  <thead>\n    <tr style=\"text-align: right;\">\n      <th></th>\n      <th>species</th>\n      <th>island</th>\n      <th>bill_length_mm</th>\n      <th>bill_depth_mm</th>\n      <th>flipper_length_mm</th>\n      <th>body_mass_g</th>\n      <th>sex</th>\n      <th>year</th>\n      <th>mass_kg</th>\n    </tr>\n  </thead>\n  <tbody>\n    <tr>\n      <th>30</th>\n      <td>Adelie</td>\n      <td>Dream</td>\n      <td>39.5</td>\n      <td>16.7</td>\n      <td>178.0</td>\n      <td>3250.0</td>\n      <td>female</td>\n      <td>2007</td>\n      <td>3.25</td>\n    </tr>\n    <tr>\n      <th>31</th>\n      <td>Adelie</td>\n      <td>Dream</td>\n      <td>37.2</td>\n      <td>18.1</td>\n      <td>178.0</td>\n      <td>3900.0</td>\n      <td>male</td>\n      <td>2007</td>\n      <td>3.90</td>\n    </tr>\n    <tr>\n      <th>32</th>\n      <td>Adelie</td>\n      <td>Dream</td>\n      <td>39.5</td>\n      <td>17.8</td>\n      <td>188.0</td>\n      <td>3300.0</td>\n      <td>female</td>\n      <td>2007</td>\n      <td>3.30</td>\n    </tr>\n    <tr>\n      <th>33</th>\n      <td>Adelie</td>\n      <td>Dream</td>\n      <td>40.9</td>\n      <td>18.9</td>\n      <td>184.0</td>\n      <td>3900.0</td>\n      <td>male</td>\n      <td>2007</td>\n      <td>3.90</td>\n    </tr>\n    <tr>\n      <th>34</th>\n      <td>Adelie</td>\n      <td>Dream</td>\n      <td>36.4</td>\n      <td>17.0</td>\n      <td>195.0</td>\n      <td>3325.0</td>\n      <td>female</td>\n      <td>2007</td>\n      <td>3.32</td>\n    </tr>\n    <tr>\n      <th>...</th>\n      <td>...</td>\n      <td>...</td>\n      <td>...</td>\n      <td>...</td>\n      <td>...</td>\n      <td>...</td>\n      <td>...</td>\n      <td>...</td>\n      <td>...</td>\n    </tr>\n    <tr>\n      <th>339</th>\n      <td>Chinstrap</td>\n      <td>Dream</td>\n      <td>55.8</td>\n      <td>19.8</td>\n      <td>207.0</td>\n      <td>4000.0</td>\n      <td>male</td>\n      <td>2009</td>\n      <td>4.00</td>\n    </tr>\n    <tr>\n      <th>340</th>\n      <td>Chinstrap</td>\n      <td>Dream</td>\n      <td>43.5</td>\n      <td>18.1</td>\n      <td>202.0</td>\n      <td>3400.0</td>\n      <td>female</td>\n      <td>2009</td>\n      <td>3.40</td>\n    </tr>\n    <tr>\n      <th>341</th>\n      <td>Chinstrap</td>\n      <td>Dream</td>\n      <td>49.6</td>\n      <td>18.2</td>\n      <td>193.0</td>\n      <td>3775.0</td>\n      <td>male</td>\n      <td>2009</td>\n      <td>3.78</td>\n    </tr>\n    <tr>\n      <th>342</th>\n      <td>Chinstrap</td>\n      <td>Dream</td>\n      <td>50.8</td>\n      <td>19.0</td>\n      <td>210.0</td>\n      <td>4100.0</td>\n      <td>male</td>\n      <td>2009</td>\n      <td>4.10</td>\n    </tr>\n    <tr>\n      <th>343</th>\n      <td>Chinstrap</td>\n      <td>Dream</td>\n      <td>50.2</td>\n      <td>18.7</td>\n      <td>198.0</td>\n      <td>3775.0</td>\n      <td>female</td>\n      <td>2009</td>\n      <td>3.78</td>\n    </tr>\n  </tbody>\n</table>\n<p>124 rows × 9 columns</p>\n</div>",
      "text/plain": [
       "       species island  bill_length_mm  bill_depth_mm  flipper_length_mm  \\\n",
       "30      Adelie  Dream            39.5           16.7              178.0   \n",
       "31      Adelie  Dream            37.2           18.1              178.0   \n",
       "32      Adelie  Dream            39.5           17.8              188.0   \n",
       "33      Adelie  Dream            40.9           18.9              184.0   \n",
       "34      Adelie  Dream            36.4           17.0              195.0   \n",
       "..         ...    ...             ...            ...                ...   \n",
       "339  Chinstrap  Dream            55.8           19.8              207.0   \n",
       "340  Chinstrap  Dream            43.5           18.1              202.0   \n",
       "341  Chinstrap  Dream            49.6           18.2              193.0   \n",
       "342  Chinstrap  Dream            50.8           19.0              210.0   \n",
       "343  Chinstrap  Dream            50.2           18.7              198.0   \n",
       "\n",
       "     body_mass_g     sex  year  mass_kg  \n",
       "30        3250.0  female  2007     3.25  \n",
       "31        3900.0    male  2007     3.90  \n",
       "32        3300.0  female  2007     3.30  \n",
       "33        3900.0    male  2007     3.90  \n",
       "34        3325.0  female  2007     3.32  \n",
       "..           ...     ...   ...      ...  \n",
       "339       4000.0    male  2009     4.00  \n",
       "340       3400.0  female  2009     3.40  \n",
       "341       3775.0    male  2009     3.78  \n",
       "342       4100.0    male  2009     4.10  \n",
       "343       3775.0  female  2009     3.78  \n",
       "\n",
       "[124 rows x 9 columns]"
      ]
     },
     "execution_count": 62,
     "metadata": {
     },
     "output_type": "execute_result"
    }
   ],
   "source": [
    "is_dream"
   ]
  },
  {
   "cell_type": "code",
   "execution_count": 63,
   "id": "19cf37",
   "metadata": {
    "collapsed": false
   },
   "outputs": [
   ],
   "source": [
    "total_body_mass = is_dream.groupby('species')['body_mass_g'].sum()"
   ]
  },
  {
   "cell_type": "code",
   "execution_count": 64,
   "id": "fd133d",
   "metadata": {
    "collapsed": false
   },
   "outputs": [
    {
     "data": {
      "text/plain": [
       "species\n",
       "Adelie       206550.0\n",
       "Chinstrap    253850.0\n",
       "Name: body_mass_g, dtype: float64"
      ]
     },
     "execution_count": 64,
     "metadata": {
     },
     "output_type": "execute_result"
    }
   ],
   "source": [
    "total_body_mass"
   ]
  },
  {
   "cell_type": "markdown",
   "id": "f66dc0",
   "metadata": {
    "collapsed": false
   },
   "source": [
    "<h3>Insight #8</h3>\n",
    "<h4>There are 2 species in Dream Island, the Adelei and Chinstrap. We can see that Chinstrap is heavier than Adelei with a total body mass of 253850.</h4>"
   ]
  },
  {
   "cell_type": "markdown",
   "id": "22f652",
   "metadata": {
    "collapsed": false
   },
   "source": [
    "<h3>9. What is the median bill depth of penguins for each species and sex?</h3>"
   ]
  },
  {
   "cell_type": "code",
   "execution_count": 65,
   "id": "7117c5",
   "metadata": {
    "collapsed": false
   },
   "outputs": [
    {
     "data": {
      "text/plain": [
       "species    sex   \n",
       "Adelie     female    17.60\n",
       "           male      18.90\n",
       "Chinstrap  female    17.65\n",
       "           male      19.30\n",
       "Gentoo     female    14.25\n",
       "           male      15.70\n",
       "Name: bill_depth_mm, dtype: float64"
      ]
     },
     "execution_count": 65,
     "metadata": {
     },
     "output_type": "execute_result"
    }
   ],
   "source": [
    "penguins.groupby(['species', 'sex'])['bill_depth_mm'].median()"
   ]
  },
  {
   "cell_type": "markdown",
   "id": "550ff8",
   "metadata": {
    "collapsed": false
   },
   "source": [
    "<h3>Insight #9</h3>\n",
    "<h4>We will observe that the female species has smaller bill depth in median compared to male, regardless of their species</h4>"
   ]
  },
  {
   "cell_type": "markdown",
   "id": "f31b00",
   "metadata": {
    "collapsed": false
   },
   "source": [
    "<h3>10. For each year, what is the heaviest body mass recorded?</h3>"
   ]
  },
  {
   "cell_type": "code",
   "execution_count": 7,
   "id": "a3cb84",
   "metadata": {
    "collapsed": false
   },
   "outputs": [
    {
     "data": {
      "text/plain": [
       "year\n",
       "2007    6300.0\n",
       "2008    6000.0\n",
       "2009    6000.0\n",
       "Name: body_mass_g, dtype: float64"
      ]
     },
     "execution_count": 7,
     "metadata": {
     },
     "output_type": "execute_result"
    }
   ],
   "source": [
    "penguins.groupby('year')['body_mass_g'].max()"
   ]
  },
  {
   "cell_type": "markdown",
   "id": "e38446",
   "metadata": {
    "collapsed": false
   },
   "source": [
    "<h3>Insight #10</h3>\n",
    "<h4>The year 2007 has recorded the heaviest body mass recorded with a no. 6300g of 6.3kg, while 2008 and 2009 are the same.</h4>"
   ]
  },
  {
   "cell_type": "markdown",
   "id": "4c44ec",
   "metadata": {
    "collapsed": false
   },
   "source": [
    "<h3>11.How many species are recorded for each year?</h3>"
   ]
  },
  {
   "cell_type": "code",
   "execution_count": 67,
   "id": "429c73",
   "metadata": {
    "collapsed": false
   },
   "outputs": [
    {
     "data": {
      "text/plain": [
       "year\n",
       "2007    110\n",
       "2008    114\n",
       "2009    120\n",
       "Name: species, dtype: int64"
      ]
     },
     "execution_count": 67,
     "metadata": {
     },
     "output_type": "execute_result"
    }
   ],
   "source": [
    "penguins.groupby('year')['species'].size()"
   ]
  },
  {
   "cell_type": "markdown",
   "id": "1d6395",
   "metadata": {
    "collapsed": false
   },
   "source": [
    "<h3>Insight #11</h3>\n",
    "<h4>We can see that the no. of species recorded each year is ascending with a total of 120 species recorded in 2009.</h4>"
   ]
  },
  {
   "cell_type": "markdown",
   "id": "073ce5",
   "metadata": {
    "collapsed": false
   },
   "source": [
    "<h3>12. For each species, what is the correlation between bill length and bill depth?</h3>"
   ]
  },
  {
   "cell_type": "code",
   "execution_count": 9,
   "id": "d21672",
   "metadata": {
    "collapsed": false
   },
   "outputs": [
    {
     "data": {
      "text/html": "<div>\n<style scoped>\n    .dataframe tbody tr th:only-of-type {\n        vertical-align: middle;\n    }\n\n    .dataframe tbody tr th {\n        vertical-align: top;\n    }\n\n    .dataframe thead th {\n        text-align: right;\n    }\n</style>\n<table border=\"1\" class=\"dataframe\">\n  <thead>\n    <tr style=\"text-align: right;\">\n      <th></th>\n      <th></th>\n      <th>bill_length_mm</th>\n      <th>bill_depth_mm</th>\n    </tr>\n    <tr>\n      <th>species</th>\n      <th></th>\n      <th></th>\n      <th></th>\n    </tr>\n  </thead>\n  <tbody>\n    <tr>\n      <th rowspan=\"2\" valign=\"top\">Adelie</th>\n      <th>bill_length_mm</th>\n      <td>1.000000</td>\n      <td>0.391492</td>\n    </tr>\n    <tr>\n      <th>bill_depth_mm</th>\n      <td>0.391492</td>\n      <td>1.000000</td>\n    </tr>\n    <tr>\n      <th rowspan=\"2\" valign=\"top\">Chinstrap</th>\n      <th>bill_length_mm</th>\n      <td>1.000000</td>\n      <td>0.653536</td>\n    </tr>\n    <tr>\n      <th>bill_depth_mm</th>\n      <td>0.653536</td>\n      <td>1.000000</td>\n    </tr>\n    <tr>\n      <th rowspan=\"2\" valign=\"top\">Gentoo</th>\n      <th>bill_length_mm</th>\n      <td>1.000000</td>\n      <td>0.643384</td>\n    </tr>\n    <tr>\n      <th>bill_depth_mm</th>\n      <td>0.643384</td>\n      <td>1.000000</td>\n    </tr>\n  </tbody>\n</table>\n</div>",
      "text/plain": [
       "                          bill_length_mm  bill_depth_mm\n",
       "species                                                \n",
       "Adelie    bill_length_mm        1.000000       0.391492\n",
       "          bill_depth_mm         0.391492       1.000000\n",
       "Chinstrap bill_length_mm        1.000000       0.653536\n",
       "          bill_depth_mm         0.653536       1.000000\n",
       "Gentoo    bill_length_mm        1.000000       0.643384\n",
       "          bill_depth_mm         0.643384       1.000000"
      ]
     },
     "execution_count": 9,
     "metadata": {
     },
     "output_type": "execute_result"
    }
   ],
   "source": [
    "penguins.groupby('species')[['bill_length_mm', 'bill_depth_mm']].corr()"
   ]
  },
  {
   "cell_type": "markdown",
   "id": "bcb82a",
   "metadata": {
    "collapsed": false
   },
   "source": [
    "<h3>Insight #12</h3>\n",
    "<h4>When it come to Adelei species, the bill length does not have any correlation with the bill depth, but from the remaining 2 species the bill length does have a correlation with the bill depth.</h4>"
   ]
  }
 ],
 "metadata": {
  "kernelspec": {
   "argv": [
    "/ext/venvs/cocalc/bin/python3",
    "-Xfrozen_modules=off",
    "-m",
    "ipykernel_launcher",
    "--HistoryManager.enabled=False",
    "--matplotlib=inline",
    "-c",
    "%config InlineBackend.figure_formats = set(['retina'])\nimport matplotlib; matplotlib.rcParams['figure.figsize'] = (12, 7)",
    "-f",
    "{connection_file}"
   ],
   "display_name": "Python 3 (CoCalc)",
   "env": {
   },
   "language": "python",
   "metadata": {
    "cocalc": {
     "description": "Python 3 system-wide environment. Use 'CoCalc' for the most complete Python environment.",
     "priority": 100,
     "url": "https://www.python.org/"
    },
    "debugger": true
   },
   "name": "python3",
   "resource_dir": "/ext/jupyter/kernels/python3"
  },
  "language_info": {
   "codemirror_mode": {
    "name": "ipython",
    "version": 3
   },
   "file_extension": ".py",
   "mimetype": "text/x-python",
   "name": "python",
   "nbconvert_exporter": "python",
   "pygments_lexer": "ipython3",
   "version": "3.12.10"
  }
 },
 "nbformat": 4,
 "nbformat_minor": 4
}